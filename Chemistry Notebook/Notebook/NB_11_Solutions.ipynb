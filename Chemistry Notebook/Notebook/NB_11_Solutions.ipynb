{
 "cells": [
  {
   "cell_type": "markdown",
   "metadata": {},
   "source": [
    "<h1>Chapter 11: Solutions</h1>"
   ]
  },
  {
   "cell_type": "markdown",
   "metadata": {},
   "source": [
    "<h1>11.1 Some Definitions</h1>\n",
    "<div class=\"learning_objectives editable block\" id=\"ball-ch11_s01_n01\">\n",
    "        <h3 class=\"title\">Learning Objectives</h3>\n",
    "        <ol class=\"orderedlist\" id=\"ball-ch11_s01_l01\">\n",
    "            <li>Learn some terminology involving solutions.</li>\n",
    "            <li>Recognize which terminology is qualitative and which terminology is quantitative.</li>\n",
    "            <li>Explain why certain substances dissolve in other substances.</li>\n",
    "        </ol>\n",
    "    </div>\n",
    "<p>The major component of a solution is called the <b style=\"color:red\">solvent</b>. The minor component of a solution is called the <b style=\"color:red\">solute</b>. By major and minor we mean whichever component has the greater presence by mass or by moles. Sometimes this becomes confusing, especially with substances with very different molar masses. However, here we will confine the discussion to solutions for which the major component and the minor component are obvious.</p>\n",
    "<p>One important concept of solutions is in defining how much solute is dissolved in a given amount of solvent. This concept is called <b style=\"color:red\">concentration</b>. Various words are used to describe the relative amounts of solute. <b style=\"color:red\">Dilute</b> describes a solution that has very little solute, while concentrated describes a solution that has a lot of solute. One problem is that these terms are qualitative; they describe more or less but not exactly how much.</p>\n",
    "<p>In most cases, only a certain maximum amount of solute can be dissolved in a given amount of solvent. This maximum amount is called the <b style=\"color:red\">solubility</b> of the solute. It is usually expressed in terms of the amount of solute that can dissolve in 100 g of the solvent at a given temperature.</p>\n",
    "<div class=\"table block\" id=\"ball-ch11_s01_t01\" frame=\"all\">\n",
    "        <p class=\"title\"><span class=\"title-prefix\">Table 11.2</span> Solubilities of Some Ionic Compounds</p>\n",
    "        <table cellpadding=\"0.5\" cellspacing=\"0.5\">\n",
    "            <thead>\n",
    "                <tr>\n",
    "                    <th>Solute</th>\n",
    "                    <th align=\"right\">Solubility (g per 100 g of H<sub class=\"subscript\">2</sub>O at 25°C)</th>\n",
    "                </tr>\n",
    "            </thead>\n",
    "            <tbody>\n",
    "                <tr>\n",
    "                    <td>AgCl</td>\n",
    "                    <td align=\"right\">0.00019</td>\n",
    "                </tr>\n",
    "                <tr>\n",
    "                    <td>CaCO<sub class=\"subscript\">3</sub>\n",
    "</td>\n",
    "                    <td align=\"right\">0.0006</td>\n",
    "                </tr>\n",
    "                <tr>\n",
    "                    <td>KBr</td>\n",
    "                    <td align=\"right\">70.7</td>\n",
    "                </tr>\n",
    "                <tr>\n",
    "                    <td>NaCl</td>\n",
    "                    <td align=\"right\">36.1</td>\n",
    "                </tr>\n",
    "                <tr>\n",
    "                    <td>NaNO<sub class=\"subscript\">3</sub>\n",
    "</td>\n",
    "                    <td align=\"right\">94.6</td>\n",
    "                </tr>\n",
    "            </tbody>\n",
    "        </table>\n",
    "    </div>\n",
    "<p>When the maximum amount of solute has been dissolved in a given amount of solvent, we say that the solution is <b style=\"color:red\">saturated</b>. with solute. When less than the maximum amount of solute is dissolved in a given amount of solute, the solution is <b style=\"color:red\">unsaturated.</b></p>\n",
    "<p>In some circumstances, it is possible to dissolve more than the maximum amount of a solute in a solution. Usually, this happens by heating the solvent, dissolving more solute than would normally dissolve at regular temperatures, and letting the solution cool down slowly and carefully. Such solutions are called <b style=\"color:red\">supersaturated</b> solutions and are not stable; given an opportunity (such as dropping a crystal of solute in the solution), the excess solute will precipitate from the solution.</p>\n"
   ]
  },
  {
   "cell_type": "markdown",
   "metadata": {},
   "source": [
    "<h1>11.2 Quantitative Units of Concentration</h1>\n",
    "<div class=\"learning_objectives editable block\" id=\"ball-ch11_s02_n01\">\n",
    "        <h3 class=\"title\">Learning Objective</h3>\n",
    "        <ol class=\"orderedlist\" id=\"ball-ch11_s02_l01\">\n",
    "            <li>Learn to determine specific concentrations with several common units.</li>\n",
    "        </ol>\n",
    "    </div>\n",
    "<p class=\"para editable block\" id=\"ball-ch11_s02_p02\"><span class=\"margin_term\"><a class=\"glossterm\">Molarity</a><span class=\"glossdef\">The number of moles of solute divided by the number of liters of solution.</span></span> (M) is defined as the number of moles of solute divided by the number of liters of solution:</p>\n",
    "<p class=\"para editable block\" id=\"ball-ch11_s02_p27\">A similar unit of concentration is <span class=\"margin_term\"><a class=\"glossterm\">molality</a><span class=\"glossdef\">The number of moles of solute per kilogram of solvent.</span></span> (<em class=\"emphasis\">m</em>), which is defined as the number of moles of solute per kilogram of solvent, not per liter of solution:</p>\n",
    "<p class=\"para editable block\" id=\"ball-ch11_s02_p29\">Another way to specify an amount is <span class=\"margin_term\"><a class=\"glossterm\">percentage composition by mass</a><span class=\"glossdef\">Ratio of mass of solute to the total mass of a sample times 100.</span></span> (or <em class=\"emphasis\">mass percentage</em>, % m/m). It is defined as follows:</p>\n",
    "\n"
   ]
  },
  {
   "cell_type": "markdown",
   "metadata": {},
   "source": [
    "<h1>11.5 Colligative properties of Solutions</h2>\n",
    "<p>Cetain properties of liquids that depend only on the number of particles in a solution* are known as colligative properties. These include:</p>\n",
    "<ul>\n",
    "    <li>something</li>\n",
    "</ul>\n",
    "<h2>Freezing point depression (Lowering)</h2>\n",
    "<p>Addition of solutes to liquids decreases the melting.freezing point</p>\n",
    "<ul> \n",
    "    <li>salted roads don;t freeze over</li>\n",
    "    <li>antifreeze protects radiator fluid from freezing</li>\n",
    "    <li>fish blood doesn't freeze in the arctic</li>\n",
    "</ul>\n",
    "<h2>Osmosis and Osmotic pressure</h2>\n",
    "<ul>\n",
    "    <li>Osmosis is the flow of solvent from a solution of low concentration into a solution of high concentration</li>\n",
    "    <li>The solutions may be separater by a semipermeable membrance which allows solvent to pass through, but not solute.</li>\n",
    "</ul>"
   ]
  }
 ],
 "metadata": {
  "language_info": {
   "codemirror_mode": {
    "name": "ipython",
    "version": 3
   },
   "file_extension": ".py",
   "mimetype": "text/x-python",
   "name": "python",
   "nbconvert_exporter": "python",
   "pygments_lexer": "ipython3",
   "version": 3
  },
  "orig_nbformat": 2
 },
 "nbformat": 4,
 "nbformat_minor": 2
}