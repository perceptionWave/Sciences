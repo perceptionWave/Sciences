{
 "cells": [
  {
   "cell_type": "code",
   "execution_count": 2,
   "metadata": {},
   "outputs": [],
   "source": [
    "# https://pythoninchemistry.org/\n",
    "# pip install chemlab\n",
    "# chempy - https://pypi.org/project/chempy/\n",
    "import numpy as np\n",
    "import pandas as pd\n",
    "import matplotlib as mtp\n",
    "import matplotlib.pyplot as plt"
   ]
  },
  {
   "cell_type": "code",
   "execution_count": 3,
   "metadata": {},
   "outputs": [
    {
     "output_type": "execute_result",
     "data": {
      "text/plain": "   AtomicNumber    Element Symbol  AtomicMass  NumberofNeutrons  \\\n0             1   Hydrogen      H       1.007                 0   \n1             2     Helium     He       4.002                 2   \n2             3    Lithium     Li       6.941                 4   \n3             4  Beryllium     Be       9.012                 5   \n4             5      Boron      B      10.811                 6   \n5             6     Carbon      C      12.011                 6   \n6             7   Nitrogen      N      14.007                 7   \n7             8     Oxygen      O      15.999                 8   \n8             9   Fluorine      F      18.998                10   \n9            10       Neon     Ne      20.180                10   \n\n   NumberofProtons  NumberofElectrons  Period  Group  Phase  ...  \\\n0                1                  1       1    1.0    gas  ...   \n1                2                  2       1   18.0    gas  ...   \n2                3                  3       2    1.0  solid  ...   \n3                4                  4       2    2.0  solid  ...   \n4                5                  5       2   13.0  solid  ...   \n5                6                  6       2   14.0  solid  ...   \n6                7                  7       2   15.0    gas  ...   \n7                8                  8       2   16.0    gas  ...   \n8                9                  9       2   17.0    gas  ...   \n9               10                 10       2   18.0    gas  ...   \n\n  FirstIonization   Density MeltingPoint BoilingPoint NumberOfIsotopes  \\\n0         13.5984  0.000090       14.175        20.28              3.0   \n1         24.5874  0.000179          NaN         4.22              5.0   \n2          5.3917  0.534000      453.850      1615.00              5.0   \n3          9.3227  1.850000     1560.150      2742.00              6.0   \n4          8.2980  2.340000     2573.150      4200.00              6.0   \n5         11.2603  2.270000     3948.150      4300.00              7.0   \n6         14.5341  0.001250       63.290        77.36              8.0   \n7         13.6181  0.001430       50.500        90.20              8.0   \n8         17.4228  0.001700       53.630        85.03              6.0   \n9         21.5645  0.000900       24.703        27.07              8.0   \n\n           Discoverer    Year  SpecificHeat  NumberofShells  NumberofValence  \n0           Cavendish  1766.0        14.304               1              1.0  \n1             Janssen  1868.0         5.193               1              NaN  \n2           Arfvedson  1817.0         3.582               2              1.0  \n3          Vaulquelin  1798.0         1.825               2              2.0  \n4          Gay-Lussac  1808.0         1.026               2              3.0  \n5         Prehistoric     NaN         0.709               2              4.0  \n6          Rutherford  1772.0         1.040               2              5.0  \n7   Priestley/Scheele  1774.0         0.918               2              6.0  \n8             Moissan  1886.0         0.824               2              7.0  \n9  Ramsay and Travers  1898.0         1.030               2              8.0  \n\n[10 rows x 28 columns]",
      "text/html": "<div>\n<style scoped>\n    .dataframe tbody tr th:only-of-type {\n        vertical-align: middle;\n    }\n\n    .dataframe tbody tr th {\n        vertical-align: top;\n    }\n\n    .dataframe thead th {\n        text-align: right;\n    }\n</style>\n<table border=\"1\" class=\"dataframe\">\n  <thead>\n    <tr style=\"text-align: right;\">\n      <th></th>\n      <th>AtomicNumber</th>\n      <th>Element</th>\n      <th>Symbol</th>\n      <th>AtomicMass</th>\n      <th>NumberofNeutrons</th>\n      <th>NumberofProtons</th>\n      <th>NumberofElectrons</th>\n      <th>Period</th>\n      <th>Group</th>\n      <th>Phase</th>\n      <th>...</th>\n      <th>FirstIonization</th>\n      <th>Density</th>\n      <th>MeltingPoint</th>\n      <th>BoilingPoint</th>\n      <th>NumberOfIsotopes</th>\n      <th>Discoverer</th>\n      <th>Year</th>\n      <th>SpecificHeat</th>\n      <th>NumberofShells</th>\n      <th>NumberofValence</th>\n    </tr>\n  </thead>\n  <tbody>\n    <tr>\n      <th>0</th>\n      <td>1</td>\n      <td>Hydrogen</td>\n      <td>H</td>\n      <td>1.007</td>\n      <td>0</td>\n      <td>1</td>\n      <td>1</td>\n      <td>1</td>\n      <td>1.0</td>\n      <td>gas</td>\n      <td>...</td>\n      <td>13.5984</td>\n      <td>0.000090</td>\n      <td>14.175</td>\n      <td>20.28</td>\n      <td>3.0</td>\n      <td>Cavendish</td>\n      <td>1766.0</td>\n      <td>14.304</td>\n      <td>1</td>\n      <td>1.0</td>\n    </tr>\n    <tr>\n      <th>1</th>\n      <td>2</td>\n      <td>Helium</td>\n      <td>He</td>\n      <td>4.002</td>\n      <td>2</td>\n      <td>2</td>\n      <td>2</td>\n      <td>1</td>\n      <td>18.0</td>\n      <td>gas</td>\n      <td>...</td>\n      <td>24.5874</td>\n      <td>0.000179</td>\n      <td>NaN</td>\n      <td>4.22</td>\n      <td>5.0</td>\n      <td>Janssen</td>\n      <td>1868.0</td>\n      <td>5.193</td>\n      <td>1</td>\n      <td>NaN</td>\n    </tr>\n    <tr>\n      <th>2</th>\n      <td>3</td>\n      <td>Lithium</td>\n      <td>Li</td>\n      <td>6.941</td>\n      <td>4</td>\n      <td>3</td>\n      <td>3</td>\n      <td>2</td>\n      <td>1.0</td>\n      <td>solid</td>\n      <td>...</td>\n      <td>5.3917</td>\n      <td>0.534000</td>\n      <td>453.850</td>\n      <td>1615.00</td>\n      <td>5.0</td>\n      <td>Arfvedson</td>\n      <td>1817.0</td>\n      <td>3.582</td>\n      <td>2</td>\n      <td>1.0</td>\n    </tr>\n    <tr>\n      <th>3</th>\n      <td>4</td>\n      <td>Beryllium</td>\n      <td>Be</td>\n      <td>9.012</td>\n      <td>5</td>\n      <td>4</td>\n      <td>4</td>\n      <td>2</td>\n      <td>2.0</td>\n      <td>solid</td>\n      <td>...</td>\n      <td>9.3227</td>\n      <td>1.850000</td>\n      <td>1560.150</td>\n      <td>2742.00</td>\n      <td>6.0</td>\n      <td>Vaulquelin</td>\n      <td>1798.0</td>\n      <td>1.825</td>\n      <td>2</td>\n      <td>2.0</td>\n    </tr>\n    <tr>\n      <th>4</th>\n      <td>5</td>\n      <td>Boron</td>\n      <td>B</td>\n      <td>10.811</td>\n      <td>6</td>\n      <td>5</td>\n      <td>5</td>\n      <td>2</td>\n      <td>13.0</td>\n      <td>solid</td>\n      <td>...</td>\n      <td>8.2980</td>\n      <td>2.340000</td>\n      <td>2573.150</td>\n      <td>4200.00</td>\n      <td>6.0</td>\n      <td>Gay-Lussac</td>\n      <td>1808.0</td>\n      <td>1.026</td>\n      <td>2</td>\n      <td>3.0</td>\n    </tr>\n    <tr>\n      <th>5</th>\n      <td>6</td>\n      <td>Carbon</td>\n      <td>C</td>\n      <td>12.011</td>\n      <td>6</td>\n      <td>6</td>\n      <td>6</td>\n      <td>2</td>\n      <td>14.0</td>\n      <td>solid</td>\n      <td>...</td>\n      <td>11.2603</td>\n      <td>2.270000</td>\n      <td>3948.150</td>\n      <td>4300.00</td>\n      <td>7.0</td>\n      <td>Prehistoric</td>\n      <td>NaN</td>\n      <td>0.709</td>\n      <td>2</td>\n      <td>4.0</td>\n    </tr>\n    <tr>\n      <th>6</th>\n      <td>7</td>\n      <td>Nitrogen</td>\n      <td>N</td>\n      <td>14.007</td>\n      <td>7</td>\n      <td>7</td>\n      <td>7</td>\n      <td>2</td>\n      <td>15.0</td>\n      <td>gas</td>\n      <td>...</td>\n      <td>14.5341</td>\n      <td>0.001250</td>\n      <td>63.290</td>\n      <td>77.36</td>\n      <td>8.0</td>\n      <td>Rutherford</td>\n      <td>1772.0</td>\n      <td>1.040</td>\n      <td>2</td>\n      <td>5.0</td>\n    </tr>\n    <tr>\n      <th>7</th>\n      <td>8</td>\n      <td>Oxygen</td>\n      <td>O</td>\n      <td>15.999</td>\n      <td>8</td>\n      <td>8</td>\n      <td>8</td>\n      <td>2</td>\n      <td>16.0</td>\n      <td>gas</td>\n      <td>...</td>\n      <td>13.6181</td>\n      <td>0.001430</td>\n      <td>50.500</td>\n      <td>90.20</td>\n      <td>8.0</td>\n      <td>Priestley/Scheele</td>\n      <td>1774.0</td>\n      <td>0.918</td>\n      <td>2</td>\n      <td>6.0</td>\n    </tr>\n    <tr>\n      <th>8</th>\n      <td>9</td>\n      <td>Fluorine</td>\n      <td>F</td>\n      <td>18.998</td>\n      <td>10</td>\n      <td>9</td>\n      <td>9</td>\n      <td>2</td>\n      <td>17.0</td>\n      <td>gas</td>\n      <td>...</td>\n      <td>17.4228</td>\n      <td>0.001700</td>\n      <td>53.630</td>\n      <td>85.03</td>\n      <td>6.0</td>\n      <td>Moissan</td>\n      <td>1886.0</td>\n      <td>0.824</td>\n      <td>2</td>\n      <td>7.0</td>\n    </tr>\n    <tr>\n      <th>9</th>\n      <td>10</td>\n      <td>Neon</td>\n      <td>Ne</td>\n      <td>20.180</td>\n      <td>10</td>\n      <td>10</td>\n      <td>10</td>\n      <td>2</td>\n      <td>18.0</td>\n      <td>gas</td>\n      <td>...</td>\n      <td>21.5645</td>\n      <td>0.000900</td>\n      <td>24.703</td>\n      <td>27.07</td>\n      <td>8.0</td>\n      <td>Ramsay and Travers</td>\n      <td>1898.0</td>\n      <td>1.030</td>\n      <td>2</td>\n      <td>8.0</td>\n    </tr>\n  </tbody>\n</table>\n<p>10 rows × 28 columns</p>\n</div>"
     },
     "metadata": {},
     "execution_count": 3
    }
   ],
   "source": [
    "# pandas periodic table \n",
    "periodicTable = pd.read_csv(\"Periodic Table of Elements.csv\")\n",
    "periodicTable.head(10)\n",
    "#periodicTable.dtypes\n",
    "# matplot lib a periodic table using the group number\n",
    "\n"
   ]
  },
  {
   "cell_type": "code",
   "execution_count": 4,
   "metadata": {},
   "outputs": [
    {
     "output_type": "execute_result",
     "data": {
      "text/plain": "  Symbol  NumberofShells  NumberofValence  Electronegativity\n0      H               1              1.0               2.20\n1     He               1              NaN                NaN\n2     Li               2              1.0               0.98\n3     Be               2              2.0               1.57\n4      B               2              3.0               2.04\n5      C               2              4.0               2.55\n6      N               2              5.0               3.04\n7      O               2              6.0               3.44\n8      F               2              7.0               3.98\n9     Ne               2              8.0                NaN",
      "text/html": "<div>\n<style scoped>\n    .dataframe tbody tr th:only-of-type {\n        vertical-align: middle;\n    }\n\n    .dataframe tbody tr th {\n        vertical-align: top;\n    }\n\n    .dataframe thead th {\n        text-align: right;\n    }\n</style>\n<table border=\"1\" class=\"dataframe\">\n  <thead>\n    <tr style=\"text-align: right;\">\n      <th></th>\n      <th>Symbol</th>\n      <th>NumberofShells</th>\n      <th>NumberofValence</th>\n      <th>Electronegativity</th>\n    </tr>\n  </thead>\n  <tbody>\n    <tr>\n      <th>0</th>\n      <td>H</td>\n      <td>1</td>\n      <td>1.0</td>\n      <td>2.20</td>\n    </tr>\n    <tr>\n      <th>1</th>\n      <td>He</td>\n      <td>1</td>\n      <td>NaN</td>\n      <td>NaN</td>\n    </tr>\n    <tr>\n      <th>2</th>\n      <td>Li</td>\n      <td>2</td>\n      <td>1.0</td>\n      <td>0.98</td>\n    </tr>\n    <tr>\n      <th>3</th>\n      <td>Be</td>\n      <td>2</td>\n      <td>2.0</td>\n      <td>1.57</td>\n    </tr>\n    <tr>\n      <th>4</th>\n      <td>B</td>\n      <td>2</td>\n      <td>3.0</td>\n      <td>2.04</td>\n    </tr>\n    <tr>\n      <th>5</th>\n      <td>C</td>\n      <td>2</td>\n      <td>4.0</td>\n      <td>2.55</td>\n    </tr>\n    <tr>\n      <th>6</th>\n      <td>N</td>\n      <td>2</td>\n      <td>5.0</td>\n      <td>3.04</td>\n    </tr>\n    <tr>\n      <th>7</th>\n      <td>O</td>\n      <td>2</td>\n      <td>6.0</td>\n      <td>3.44</td>\n    </tr>\n    <tr>\n      <th>8</th>\n      <td>F</td>\n      <td>2</td>\n      <td>7.0</td>\n      <td>3.98</td>\n    </tr>\n    <tr>\n      <th>9</th>\n      <td>Ne</td>\n      <td>2</td>\n      <td>8.0</td>\n      <td>NaN</td>\n    </tr>\n  </tbody>\n</table>\n</div>"
     },
     "metadata": {},
     "execution_count": 4
    }
   ],
   "source": [
    "# Key Values in this chapter\n",
    "valence = periodicTable[[\"Symbol\",\"NumberofShells\", \"NumberofValence\", \"Electronegativity\"]]\n",
    "valence.head(10)"
   ]
  },
  {
   "cell_type": "code",
   "execution_count": 10,
   "metadata": {},
   "outputs": [],
   "source": [
    "# pandas(pd) - Number of valence in (\"Periodic table of Elements.csv\")\n",
    "element = \"Hg\"\n",
    "val = periodicTable.loc[periodicTable[\"NumberofValence\"].str.contains(element)]\n",
    "print(val)"
   ]
  },
  {
   "cell_type": "code",
   "execution_count": 6,
   "metadata": {
    "tags": []
   },
   "outputs": [
    {
     "output_type": "execute_result",
     "data": {
      "text/plain": "<matplotlib.axes._subplots.AxesSubplot at 0x11e99490>"
     },
     "metadata": {},
     "execution_count": 6
    },
    {
     "output_type": "display_data",
     "data": {
      "text/plain": "<Figure size 432x288 with 1 Axes>",
      "image/svg+xml": "<?xml version=\"1.0\" encoding=\"utf-8\" standalone=\"no\"?>\r\n<!DOCTYPE svg PUBLIC \"-//W3C//DTD SVG 1.1//EN\"\r\n  \"http://www.w3.org/Graphics/SVG/1.1/DTD/svg11.dtd\">\r\n<!-- Created with matplotlib (https://matplotlib.org/) -->\r\n<svg height=\"248.518125pt\" version=\"1.1\" viewBox=\"0 0 364.692264 248.518125\" width=\"364.692264pt\" xmlns=\"http://www.w3.org/2000/svg\" xmlns:xlink=\"http://www.w3.org/1999/xlink\">\r\n <defs>\r\n  <style type=\"text/css\">\r\n*{stroke-linecap:butt;stroke-linejoin:round;}\r\n  </style>\r\n </defs>\r\n <g id=\"figure_1\">\r\n  <g id=\"patch_1\">\r\n   <path d=\"M 0 248.518125 \r\nL 364.692264 248.518125 \r\nL 364.692264 0 \r\nL 0 0 \r\nz\r\n\" style=\"fill:none;\"/>\r\n  </g>\r\n  <g id=\"axes_1\">\r\n   <g id=\"patch_2\">\r\n    <path d=\"M 20.5625 224.64 \r\nL 355.3625 224.64 \r\nL 355.3625 7.2 \r\nL 20.5625 7.2 \r\nz\r\n\" style=\"fill:#ffffff;\"/>\r\n   </g>\r\n   <g id=\"matplotlib.axis_1\">\r\n    <g id=\"xtick_1\">\r\n     <g id=\"line2d_1\">\r\n      <defs>\r\n       <path d=\"M 0 0 \r\nL 0 3.5 \r\n\" id=\"me24d451976\" style=\"stroke:#000000;stroke-width:0.8;\"/>\r\n      </defs>\r\n      <g>\r\n       <use style=\"stroke:#000000;stroke-width:0.8;\" x=\"35.780682\" xlink:href=\"#me24d451976\" y=\"224.64\"/>\r\n      </g>\r\n     </g>\r\n     <g id=\"text_1\">\r\n      <!-- 0 -->\r\n      <defs>\r\n       <path d=\"M 31.78125 66.40625 \r\nQ 24.171875 66.40625 20.328125 58.90625 \r\nQ 16.5 51.421875 16.5 36.375 \r\nQ 16.5 21.390625 20.328125 13.890625 \r\nQ 24.171875 6.390625 31.78125 6.390625 \r\nQ 39.453125 6.390625 43.28125 13.890625 \r\nQ 47.125 21.390625 47.125 36.375 \r\nQ 47.125 51.421875 43.28125 58.90625 \r\nQ 39.453125 66.40625 31.78125 66.40625 \r\nz\r\nM 31.78125 74.21875 \r\nQ 44.046875 74.21875 50.515625 64.515625 \r\nQ 56.984375 54.828125 56.984375 36.375 \r\nQ 56.984375 17.96875 50.515625 8.265625 \r\nQ 44.046875 -1.421875 31.78125 -1.421875 \r\nQ 19.53125 -1.421875 13.0625 8.265625 \r\nQ 6.59375 17.96875 6.59375 36.375 \r\nQ 6.59375 54.828125 13.0625 64.515625 \r\nQ 19.53125 74.21875 31.78125 74.21875 \r\nz\r\n\" id=\"DejaVuSans-48\"/>\r\n      </defs>\r\n      <g transform=\"translate(32.599432 239.238437)scale(0.1 -0.1)\">\r\n       <use xlink:href=\"#DejaVuSans-48\"/>\r\n      </g>\r\n     </g>\r\n    </g>\r\n    <g id=\"xtick_2\">\r\n     <g id=\"line2d_2\">\r\n      <g>\r\n       <use style=\"stroke:#000000;stroke-width:0.8;\" x=\"87.808654\" xlink:href=\"#me24d451976\" y=\"224.64\"/>\r\n      </g>\r\n     </g>\r\n     <g id=\"text_2\">\r\n      <!-- 20 -->\r\n      <defs>\r\n       <path d=\"M 19.1875 8.296875 \r\nL 53.609375 8.296875 \r\nL 53.609375 0 \r\nL 7.328125 0 \r\nL 7.328125 8.296875 \r\nQ 12.9375 14.109375 22.625 23.890625 \r\nQ 32.328125 33.6875 34.8125 36.53125 \r\nQ 39.546875 41.84375 41.421875 45.53125 \r\nQ 43.3125 49.21875 43.3125 52.78125 \r\nQ 43.3125 58.59375 39.234375 62.25 \r\nQ 35.15625 65.921875 28.609375 65.921875 \r\nQ 23.96875 65.921875 18.8125 64.3125 \r\nQ 13.671875 62.703125 7.8125 59.421875 \r\nL 7.8125 69.390625 \r\nQ 13.765625 71.78125 18.9375 73 \r\nQ 24.125 74.21875 28.421875 74.21875 \r\nQ 39.75 74.21875 46.484375 68.546875 \r\nQ 53.21875 62.890625 53.21875 53.421875 \r\nQ 53.21875 48.921875 51.53125 44.890625 \r\nQ 49.859375 40.875 45.40625 35.40625 \r\nQ 44.1875 33.984375 37.640625 27.21875 \r\nQ 31.109375 20.453125 19.1875 8.296875 \r\nz\r\n\" id=\"DejaVuSans-50\"/>\r\n      </defs>\r\n      <g transform=\"translate(81.446154 239.238437)scale(0.1 -0.1)\">\r\n       <use xlink:href=\"#DejaVuSans-50\"/>\r\n       <use x=\"63.623047\" xlink:href=\"#DejaVuSans-48\"/>\r\n      </g>\r\n     </g>\r\n    </g>\r\n    <g id=\"xtick_3\">\r\n     <g id=\"line2d_3\">\r\n      <g>\r\n       <use style=\"stroke:#000000;stroke-width:0.8;\" x=\"139.836626\" xlink:href=\"#me24d451976\" y=\"224.64\"/>\r\n      </g>\r\n     </g>\r\n     <g id=\"text_3\">\r\n      <!-- 40 -->\r\n      <defs>\r\n       <path d=\"M 37.796875 64.3125 \r\nL 12.890625 25.390625 \r\nL 37.796875 25.390625 \r\nz\r\nM 35.203125 72.90625 \r\nL 47.609375 72.90625 \r\nL 47.609375 25.390625 \r\nL 58.015625 25.390625 \r\nL 58.015625 17.1875 \r\nL 47.609375 17.1875 \r\nL 47.609375 0 \r\nL 37.796875 0 \r\nL 37.796875 17.1875 \r\nL 4.890625 17.1875 \r\nL 4.890625 26.703125 \r\nz\r\n\" id=\"DejaVuSans-52\"/>\r\n      </defs>\r\n      <g transform=\"translate(133.474126 239.238437)scale(0.1 -0.1)\">\r\n       <use xlink:href=\"#DejaVuSans-52\"/>\r\n       <use x=\"63.623047\" xlink:href=\"#DejaVuSans-48\"/>\r\n      </g>\r\n     </g>\r\n    </g>\r\n    <g id=\"xtick_4\">\r\n     <g id=\"line2d_4\">\r\n      <g>\r\n       <use style=\"stroke:#000000;stroke-width:0.8;\" x=\"191.864598\" xlink:href=\"#me24d451976\" y=\"224.64\"/>\r\n      </g>\r\n     </g>\r\n     <g id=\"text_4\">\r\n      <!-- 60 -->\r\n      <defs>\r\n       <path d=\"M 33.015625 40.375 \r\nQ 26.375 40.375 22.484375 35.828125 \r\nQ 18.609375 31.296875 18.609375 23.390625 \r\nQ 18.609375 15.53125 22.484375 10.953125 \r\nQ 26.375 6.390625 33.015625 6.390625 \r\nQ 39.65625 6.390625 43.53125 10.953125 \r\nQ 47.40625 15.53125 47.40625 23.390625 \r\nQ 47.40625 31.296875 43.53125 35.828125 \r\nQ 39.65625 40.375 33.015625 40.375 \r\nz\r\nM 52.59375 71.296875 \r\nL 52.59375 62.3125 \r\nQ 48.875 64.0625 45.09375 64.984375 \r\nQ 41.3125 65.921875 37.59375 65.921875 \r\nQ 27.828125 65.921875 22.671875 59.328125 \r\nQ 17.53125 52.734375 16.796875 39.40625 \r\nQ 19.671875 43.65625 24.015625 45.921875 \r\nQ 28.375 48.1875 33.59375 48.1875 \r\nQ 44.578125 48.1875 50.953125 41.515625 \r\nQ 57.328125 34.859375 57.328125 23.390625 \r\nQ 57.328125 12.15625 50.6875 5.359375 \r\nQ 44.046875 -1.421875 33.015625 -1.421875 \r\nQ 20.359375 -1.421875 13.671875 8.265625 \r\nQ 6.984375 17.96875 6.984375 36.375 \r\nQ 6.984375 53.65625 15.1875 63.9375 \r\nQ 23.390625 74.21875 37.203125 74.21875 \r\nQ 40.921875 74.21875 44.703125 73.484375 \r\nQ 48.484375 72.75 52.59375 71.296875 \r\nz\r\n\" id=\"DejaVuSans-54\"/>\r\n      </defs>\r\n      <g transform=\"translate(185.502098 239.238437)scale(0.1 -0.1)\">\r\n       <use xlink:href=\"#DejaVuSans-54\"/>\r\n       <use x=\"63.623047\" xlink:href=\"#DejaVuSans-48\"/>\r\n      </g>\r\n     </g>\r\n    </g>\r\n    <g id=\"xtick_5\">\r\n     <g id=\"line2d_5\">\r\n      <g>\r\n       <use style=\"stroke:#000000;stroke-width:0.8;\" x=\"243.89257\" xlink:href=\"#me24d451976\" y=\"224.64\"/>\r\n      </g>\r\n     </g>\r\n     <g id=\"text_5\">\r\n      <!-- 80 -->\r\n      <defs>\r\n       <path d=\"M 31.78125 34.625 \r\nQ 24.75 34.625 20.71875 30.859375 \r\nQ 16.703125 27.09375 16.703125 20.515625 \r\nQ 16.703125 13.921875 20.71875 10.15625 \r\nQ 24.75 6.390625 31.78125 6.390625 \r\nQ 38.8125 6.390625 42.859375 10.171875 \r\nQ 46.921875 13.96875 46.921875 20.515625 \r\nQ 46.921875 27.09375 42.890625 30.859375 \r\nQ 38.875 34.625 31.78125 34.625 \r\nz\r\nM 21.921875 38.8125 \r\nQ 15.578125 40.375 12.03125 44.71875 \r\nQ 8.5 49.078125 8.5 55.328125 \r\nQ 8.5 64.0625 14.71875 69.140625 \r\nQ 20.953125 74.21875 31.78125 74.21875 \r\nQ 42.671875 74.21875 48.875 69.140625 \r\nQ 55.078125 64.0625 55.078125 55.328125 \r\nQ 55.078125 49.078125 51.53125 44.71875 \r\nQ 48 40.375 41.703125 38.8125 \r\nQ 48.828125 37.15625 52.796875 32.3125 \r\nQ 56.78125 27.484375 56.78125 20.515625 \r\nQ 56.78125 9.90625 50.3125 4.234375 \r\nQ 43.84375 -1.421875 31.78125 -1.421875 \r\nQ 19.734375 -1.421875 13.25 4.234375 \r\nQ 6.78125 9.90625 6.78125 20.515625 \r\nQ 6.78125 27.484375 10.78125 32.3125 \r\nQ 14.796875 37.15625 21.921875 38.8125 \r\nz\r\nM 18.3125 54.390625 \r\nQ 18.3125 48.734375 21.84375 45.5625 \r\nQ 25.390625 42.390625 31.78125 42.390625 \r\nQ 38.140625 42.390625 41.71875 45.5625 \r\nQ 45.3125 48.734375 45.3125 54.390625 \r\nQ 45.3125 60.0625 41.71875 63.234375 \r\nQ 38.140625 66.40625 31.78125 66.40625 \r\nQ 25.390625 66.40625 21.84375 63.234375 \r\nQ 18.3125 60.0625 18.3125 54.390625 \r\nz\r\n\" id=\"DejaVuSans-56\"/>\r\n      </defs>\r\n      <g transform=\"translate(237.53007 239.238437)scale(0.1 -0.1)\">\r\n       <use xlink:href=\"#DejaVuSans-56\"/>\r\n       <use x=\"63.623047\" xlink:href=\"#DejaVuSans-48\"/>\r\n      </g>\r\n     </g>\r\n    </g>\r\n    <g id=\"xtick_6\">\r\n     <g id=\"line2d_6\">\r\n      <g>\r\n       <use style=\"stroke:#000000;stroke-width:0.8;\" x=\"295.920542\" xlink:href=\"#me24d451976\" y=\"224.64\"/>\r\n      </g>\r\n     </g>\r\n     <g id=\"text_6\">\r\n      <!-- 100 -->\r\n      <defs>\r\n       <path d=\"M 12.40625 8.296875 \r\nL 28.515625 8.296875 \r\nL 28.515625 63.921875 \r\nL 10.984375 60.40625 \r\nL 10.984375 69.390625 \r\nL 28.421875 72.90625 \r\nL 38.28125 72.90625 \r\nL 38.28125 8.296875 \r\nL 54.390625 8.296875 \r\nL 54.390625 0 \r\nL 12.40625 0 \r\nz\r\n\" id=\"DejaVuSans-49\"/>\r\n      </defs>\r\n      <g transform=\"translate(286.376792 239.238437)scale(0.1 -0.1)\">\r\n       <use xlink:href=\"#DejaVuSans-49\"/>\r\n       <use x=\"63.623047\" xlink:href=\"#DejaVuSans-48\"/>\r\n       <use x=\"127.246094\" xlink:href=\"#DejaVuSans-48\"/>\r\n      </g>\r\n     </g>\r\n    </g>\r\n    <g id=\"xtick_7\">\r\n     <g id=\"line2d_7\">\r\n      <g>\r\n       <use style=\"stroke:#000000;stroke-width:0.8;\" x=\"347.948514\" xlink:href=\"#me24d451976\" y=\"224.64\"/>\r\n      </g>\r\n     </g>\r\n     <g id=\"text_7\">\r\n      <!-- 120 -->\r\n      <g transform=\"translate(338.404764 239.238437)scale(0.1 -0.1)\">\r\n       <use xlink:href=\"#DejaVuSans-49\"/>\r\n       <use x=\"63.623047\" xlink:href=\"#DejaVuSans-50\"/>\r\n       <use x=\"127.246094\" xlink:href=\"#DejaVuSans-48\"/>\r\n      </g>\r\n     </g>\r\n    </g>\r\n   </g>\r\n   <g id=\"matplotlib.axis_2\">\r\n    <g id=\"ytick_1\">\r\n     <g id=\"line2d_8\">\r\n      <defs>\r\n       <path d=\"M 0 0 \r\nL -3.5 0 \r\n\" id=\"meee4a388e1\" style=\"stroke:#000000;stroke-width:0.8;\"/>\r\n      </defs>\r\n      <g>\r\n       <use style=\"stroke:#000000;stroke-width:0.8;\" x=\"20.5625\" xlink:href=\"#meee4a388e1\" y=\"214.756364\"/>\r\n      </g>\r\n     </g>\r\n     <g id=\"text_8\">\r\n      <!-- 1 -->\r\n      <g transform=\"translate(7.2 218.555582)scale(0.1 -0.1)\">\r\n       <use xlink:href=\"#DejaVuSans-49\"/>\r\n      </g>\r\n     </g>\r\n    </g>\r\n    <g id=\"ytick_2\">\r\n     <g id=\"line2d_9\">\r\n      <g>\r\n       <use style=\"stroke:#000000;stroke-width:0.8;\" x=\"20.5625\" xlink:href=\"#meee4a388e1\" y=\"181.810909\"/>\r\n      </g>\r\n     </g>\r\n     <g id=\"text_9\">\r\n      <!-- 2 -->\r\n      <g transform=\"translate(7.2 185.610128)scale(0.1 -0.1)\">\r\n       <use xlink:href=\"#DejaVuSans-50\"/>\r\n      </g>\r\n     </g>\r\n    </g>\r\n    <g id=\"ytick_3\">\r\n     <g id=\"line2d_10\">\r\n      <g>\r\n       <use style=\"stroke:#000000;stroke-width:0.8;\" x=\"20.5625\" xlink:href=\"#meee4a388e1\" y=\"148.865455\"/>\r\n      </g>\r\n     </g>\r\n     <g id=\"text_10\">\r\n      <!-- 3 -->\r\n      <defs>\r\n       <path d=\"M 40.578125 39.3125 \r\nQ 47.65625 37.796875 51.625 33 \r\nQ 55.609375 28.21875 55.609375 21.1875 \r\nQ 55.609375 10.40625 48.1875 4.484375 \r\nQ 40.765625 -1.421875 27.09375 -1.421875 \r\nQ 22.515625 -1.421875 17.65625 -0.515625 \r\nQ 12.796875 0.390625 7.625 2.203125 \r\nL 7.625 11.71875 \r\nQ 11.71875 9.328125 16.59375 8.109375 \r\nQ 21.484375 6.890625 26.8125 6.890625 \r\nQ 36.078125 6.890625 40.9375 10.546875 \r\nQ 45.796875 14.203125 45.796875 21.1875 \r\nQ 45.796875 27.640625 41.28125 31.265625 \r\nQ 36.765625 34.90625 28.71875 34.90625 \r\nL 20.21875 34.90625 \r\nL 20.21875 43.015625 \r\nL 29.109375 43.015625 \r\nQ 36.375 43.015625 40.234375 45.921875 \r\nQ 44.09375 48.828125 44.09375 54.296875 \r\nQ 44.09375 59.90625 40.109375 62.90625 \r\nQ 36.140625 65.921875 28.71875 65.921875 \r\nQ 24.65625 65.921875 20.015625 65.03125 \r\nQ 15.375 64.15625 9.8125 62.3125 \r\nL 9.8125 71.09375 \r\nQ 15.4375 72.65625 20.34375 73.4375 \r\nQ 25.25 74.21875 29.59375 74.21875 \r\nQ 40.828125 74.21875 47.359375 69.109375 \r\nQ 53.90625 64.015625 53.90625 55.328125 \r\nQ 53.90625 49.265625 50.4375 45.09375 \r\nQ 46.96875 40.921875 40.578125 39.3125 \r\nz\r\n\" id=\"DejaVuSans-51\"/>\r\n      </defs>\r\n      <g transform=\"translate(7.2 152.664673)scale(0.1 -0.1)\">\r\n       <use xlink:href=\"#DejaVuSans-51\"/>\r\n      </g>\r\n     </g>\r\n    </g>\r\n    <g id=\"ytick_4\">\r\n     <g id=\"line2d_11\">\r\n      <g>\r\n       <use style=\"stroke:#000000;stroke-width:0.8;\" x=\"20.5625\" xlink:href=\"#meee4a388e1\" y=\"115.92\"/>\r\n      </g>\r\n     </g>\r\n     <g id=\"text_11\">\r\n      <!-- 4 -->\r\n      <g transform=\"translate(7.2 119.719219)scale(0.1 -0.1)\">\r\n       <use xlink:href=\"#DejaVuSans-52\"/>\r\n      </g>\r\n     </g>\r\n    </g>\r\n    <g id=\"ytick_5\">\r\n     <g id=\"line2d_12\">\r\n      <g>\r\n       <use style=\"stroke:#000000;stroke-width:0.8;\" x=\"20.5625\" xlink:href=\"#meee4a388e1\" y=\"82.974545\"/>\r\n      </g>\r\n     </g>\r\n     <g id=\"text_12\">\r\n      <!-- 5 -->\r\n      <defs>\r\n       <path d=\"M 10.796875 72.90625 \r\nL 49.515625 72.90625 \r\nL 49.515625 64.59375 \r\nL 19.828125 64.59375 \r\nL 19.828125 46.734375 \r\nQ 21.96875 47.46875 24.109375 47.828125 \r\nQ 26.265625 48.1875 28.421875 48.1875 \r\nQ 40.625 48.1875 47.75 41.5 \r\nQ 54.890625 34.8125 54.890625 23.390625 \r\nQ 54.890625 11.625 47.5625 5.09375 \r\nQ 40.234375 -1.421875 26.90625 -1.421875 \r\nQ 22.3125 -1.421875 17.546875 -0.640625 \r\nQ 12.796875 0.140625 7.71875 1.703125 \r\nL 7.71875 11.625 \r\nQ 12.109375 9.234375 16.796875 8.0625 \r\nQ 21.484375 6.890625 26.703125 6.890625 \r\nQ 35.15625 6.890625 40.078125 11.328125 \r\nQ 45.015625 15.765625 45.015625 23.390625 \r\nQ 45.015625 31 40.078125 35.4375 \r\nQ 35.15625 39.890625 26.703125 39.890625 \r\nQ 22.75 39.890625 18.8125 39.015625 \r\nQ 14.890625 38.140625 10.796875 36.28125 \r\nz\r\n\" id=\"DejaVuSans-53\"/>\r\n      </defs>\r\n      <g transform=\"translate(7.2 86.773764)scale(0.1 -0.1)\">\r\n       <use xlink:href=\"#DejaVuSans-53\"/>\r\n      </g>\r\n     </g>\r\n    </g>\r\n    <g id=\"ytick_6\">\r\n     <g id=\"line2d_13\">\r\n      <g>\r\n       <use style=\"stroke:#000000;stroke-width:0.8;\" x=\"20.5625\" xlink:href=\"#meee4a388e1\" y=\"50.029091\"/>\r\n      </g>\r\n     </g>\r\n     <g id=\"text_13\">\r\n      <!-- 6 -->\r\n      <g transform=\"translate(7.2 53.82831)scale(0.1 -0.1)\">\r\n       <use xlink:href=\"#DejaVuSans-54\"/>\r\n      </g>\r\n     </g>\r\n    </g>\r\n    <g id=\"ytick_7\">\r\n     <g id=\"line2d_14\">\r\n      <g>\r\n       <use style=\"stroke:#000000;stroke-width:0.8;\" x=\"20.5625\" xlink:href=\"#meee4a388e1\" y=\"17.083636\"/>\r\n      </g>\r\n     </g>\r\n     <g id=\"text_14\">\r\n      <!-- 7 -->\r\n      <defs>\r\n       <path d=\"M 8.203125 72.90625 \r\nL 55.078125 72.90625 \r\nL 55.078125 68.703125 \r\nL 28.609375 0 \r\nL 18.3125 0 \r\nL 43.21875 64.59375 \r\nL 8.203125 64.59375 \r\nz\r\n\" id=\"DejaVuSans-55\"/>\r\n      </defs>\r\n      <g transform=\"translate(7.2 20.882855)scale(0.1 -0.1)\">\r\n       <use xlink:href=\"#DejaVuSans-55\"/>\r\n      </g>\r\n     </g>\r\n    </g>\r\n   </g>\r\n   <g id=\"line2d_15\">\r\n    <path clip-path=\"url(#p7c3439db51)\" d=\"M 35.780682 214.756364 \r\nL 38.38208 214.756364 \r\nL 40.983479 181.810909 \r\nL 43.584878 181.810909 \r\nL 46.186276 181.810909 \r\nL 48.787675 181.810909 \r\nL 51.389073 181.810909 \r\nL 53.990472 181.810909 \r\nL 56.591871 181.810909 \r\nL 59.193269 181.810909 \r\nL 61.794668 148.865455 \r\nL 64.396066 148.865455 \r\nL 66.997465 148.865455 \r\nL 69.598864 148.865455 \r\nL 72.200262 148.865455 \r\nL 74.801661 148.865455 \r\nL 77.403059 148.865455 \r\nL 80.004458 148.865455 \r\nL 82.605857 115.92 \r\nL 85.207255 115.92 \r\nL 87.808654 115.92 \r\nL 90.410052 115.92 \r\nL 93.011451 115.92 \r\nL 95.61285 115.92 \r\nL 98.214248 115.92 \r\nL 100.815647 115.92 \r\nL 103.417045 115.92 \r\nL 106.018444 115.92 \r\nL 108.619843 115.92 \r\nL 111.221241 115.92 \r\nL 113.82264 115.92 \r\nL 116.424038 115.92 \r\nL 119.025437 115.92 \r\nL 121.626836 115.92 \r\nL 124.228234 115.92 \r\nL 126.829633 115.92 \r\nL 129.431031 82.974545 \r\nL 132.03243 82.974545 \r\nL 134.633829 82.974545 \r\nL 137.235227 82.974545 \r\nL 139.836626 82.974545 \r\nL 142.438024 82.974545 \r\nL 145.039423 82.974545 \r\nL 147.640822 82.974545 \r\nL 150.24222 82.974545 \r\nL 152.843619 82.974545 \r\nL 155.445017 82.974545 \r\nL 158.046416 82.974545 \r\nL 160.647815 82.974545 \r\nL 163.249213 82.974545 \r\nL 165.850612 82.974545 \r\nL 168.45201 82.974545 \r\nL 171.053409 82.974545 \r\nL 173.654808 82.974545 \r\nL 176.256206 50.029091 \r\nL 178.857605 50.029091 \r\nL 181.459003 50.029091 \r\nL 184.060402 50.029091 \r\nL 186.661801 50.029091 \r\nL 189.263199 50.029091 \r\nL 191.864598 50.029091 \r\nL 194.465997 50.029091 \r\nL 197.067395 50.029091 \r\nL 199.668794 50.029091 \r\nL 202.270192 50.029091 \r\nL 204.871591 50.029091 \r\nL 207.47299 50.029091 \r\nL 210.074388 50.029091 \r\nL 212.675787 50.029091 \r\nL 215.277185 50.029091 \r\nL 217.878584 50.029091 \r\nL 220.479983 50.029091 \r\nL 223.081381 50.029091 \r\nL 225.68278 50.029091 \r\nL 228.284178 50.029091 \r\nL 230.885577 50.029091 \r\nL 233.486976 50.029091 \r\nL 236.088374 50.029091 \r\nL 238.689773 50.029091 \r\nL 241.291171 50.029091 \r\nL 243.89257 50.029091 \r\nL 246.493969 50.029091 \r\nL 249.095367 50.029091 \r\nL 251.696766 50.029091 \r\nL 254.298164 50.029091 \r\nL 256.899563 50.029091 \r\nL 259.500962 17.083636 \r\nL 262.10236 17.083636 \r\nL 264.703759 17.083636 \r\nL 267.305157 17.083636 \r\nL 269.906556 17.083636 \r\nL 272.507955 17.083636 \r\nL 275.109353 17.083636 \r\nL 277.710752 17.083636 \r\nL 280.31215 17.083636 \r\nL 282.913549 17.083636 \r\nL 285.514948 17.083636 \r\nL 288.116346 17.083636 \r\nL 290.717745 17.083636 \r\nL 293.319143 17.083636 \r\nL 295.920542 17.083636 \r\nL 298.521941 17.083636 \r\nL 301.123339 17.083636 \r\nL 303.724738 17.083636 \r\nL 306.326136 17.083636 \r\nL 308.927535 17.083636 \r\nL 311.528934 17.083636 \r\nL 314.130332 17.083636 \r\nL 316.731731 17.083636 \r\nL 319.333129 17.083636 \r\nL 321.934528 17.083636 \r\nL 324.535927 17.083636 \r\nL 327.137325 17.083636 \r\nL 329.738724 17.083636 \r\nL 332.340122 17.083636 \r\nL 334.941521 17.083636 \r\nL 337.54292 17.083636 \r\nL 340.144318 17.083636 \r\n\" style=\"fill:none;stroke:#1f77b4;stroke-linecap:square;stroke-width:1.5;\"/>\r\n   </g>\r\n   <g id=\"patch_3\">\r\n    <path d=\"M 20.5625 224.64 \r\nL 20.5625 7.2 \r\n\" style=\"fill:none;stroke:#000000;stroke-linecap:square;stroke-linejoin:miter;stroke-width:0.8;\"/>\r\n   </g>\r\n   <g id=\"patch_4\">\r\n    <path d=\"M 355.3625 224.64 \r\nL 355.3625 7.2 \r\n\" style=\"fill:none;stroke:#000000;stroke-linecap:square;stroke-linejoin:miter;stroke-width:0.8;\"/>\r\n   </g>\r\n   <g id=\"patch_5\">\r\n    <path d=\"M 20.5625 224.64 \r\nL 355.3625 224.64 \r\n\" style=\"fill:none;stroke:#000000;stroke-linecap:square;stroke-linejoin:miter;stroke-width:0.8;\"/>\r\n   </g>\r\n   <g id=\"patch_6\">\r\n    <path d=\"M 20.5625 7.2 \r\nL 355.3625 7.2 \r\n\" style=\"fill:none;stroke:#000000;stroke-linecap:square;stroke-linejoin:miter;stroke-width:0.8;\"/>\r\n   </g>\r\n  </g>\r\n </g>\r\n <defs>\r\n  <clipPath id=\"p7c3439db51\">\r\n   <rect height=\"217.44\" width=\"334.8\" x=\"20.5625\" y=\"7.2\"/>\r\n  </clipPath>\r\n </defs>\r\n</svg>\r\n",
      "image/png": "[encoded data removed]"
     },
     "metadata": {
      "needs_background": "light"
     }
    }
   ],
   "source": [
    "# matplotlib charts\n",
    "periodicTable[\"NumberofShells\"].plot()\n",
    "#periodicTable.plot.scatter(x=\"Group\",y=\"AtomicNumber\", alpha=0.5)\n",
    "#group = np.array(periodicTable[\"Group\"])\n",
    "#group.sort\n",
    "#print(group)"
   ]
  },
  {
   "cell_type": "markdown",
   "metadata": {},
   "source": [
    "<h1>9.1 Lewis Dot Electrons</h1>\n",
    "<h6>Draw a Lewis electron dot diagram for an atom or a monatomic ion.</h6>"
   ]
  },
  {
   "cell_type": "markdown",
   "metadata": {},
   "source": [
    "<p>A <b>Lewis electron dot diagram</b> (or electron dot diagram or a Lewis diagram or a Lewis structure) is a representation of the valence electrons of an atom that uses dots around the symbol of the element.</p>\n",
    "<h3>Lewis Theory emphasizes valence electrons to explain bonding<h3>\n",
    "<i>Valence electrons are equal to the \"A\" group number</i>\n"
   ]
  },
  {
   "cell_type": "markdown",
   "metadata": {},
   "source": [
    "<h2>Lewis Bond Theory</h2>\n",
    "<ul>\n",
    "<li>How and why atoms bond together</li>\n",
    "<li>Why some combinations of atoms are stable and others are not</li>\n",
    "<li>Allows prediction of shape, and polarity of molecules as well as their properties</li>\n",
    "</ul>"
   ]
  },
  {
   "cell_type": "code",
   "execution_count": 7,
   "metadata": {},
   "outputs": [
    {
     "output_type": "execute_result",
     "data": {
      "text/html": "<img src=\"https://saylordotorg.github.io/text_introductory-chemistry/section_13/e688c8cbf89ce291e823004015def1d0.jpg\" height=\"100\"/>",
      "text/plain": "<IPython.core.display.Image object>"
     },
     "metadata": {},
     "execution_count": 7
    }
   ],
   "source": [
    "# Lewis Dot Diagram\n",
    "from IPython.display import Image\n",
    "from IPython.core.display import HTML \n",
    "Image(url= \"https://saylordotorg.github.io/text_introductory-chemistry/section_13/e688c8cbf89ce291e823004015def1d0.jpg\", height=100)\n",
    "# https://stackoverflow.com/questions/32370281/how-to-embed-image-or-picture-in-jupyter-notebook-either-from-a-local-machine-o"
   ]
  },
  {
   "cell_type": "markdown",
   "metadata": {},
   "source": [
    "![Iron +2](https://saylordotorg.github.io/text_introductory-chemistry/section_13/e3f165058edff3f7cd202c93a5718fb2.jpg)\n",
    "![Lewis Dot Structure ](https://saylordotorg.github.io/text_introductory-chemistry/section_13/35414f98b02f18357b6dcbf41af06494.jpg)\n",
    "<!-->![Periodic Lewis Dot Structure](https://www.chemistrylearner.com/wp-content/uploads/2018/07/Germanium-Lewis-Dot-Structure.jpg)</-->"
   ]
  },
  {
   "cell_type": "code",
   "execution_count": 8,
   "metadata": {
    "tags": []
   },
   "outputs": [
    {
     "output_type": "stream",
     "name": "stdout",
     "text": "['H' 'He' 'Li' 'Be' 'B' 'C' 'N' 'O' 'F' 'Ne' 'Na' 'Mg' 'Al' 'Si' 'P' 'S'\n 'Cl' 'Ar' 'K' 'Ca' 'Sc' 'Ti' 'V' 'Cr' 'Mn' 'Fe' 'Co' 'Ni' 'Cu' 'Zn' 'Ga'\n 'Ge' 'As' 'Se' 'Br' 'Kr' 'Rb' 'Sr' 'Y' 'Zr' 'Nb' 'Mo' 'Tc' 'Ru' 'Rh' 'Pd'\n 'Ag' 'Cd' 'In' 'Sn' 'Sb' 'Te' 'I' 'Xe' 'Cs' 'Ba' 'La' 'Ce' 'Pr' 'Nd' 'Pm'\n 'Sm' 'Eu' 'Gd' 'Tb' 'Dy' 'Ho' 'Er' 'Tm' 'Yb' 'Lu' 'Hf' 'Ta' 'W' 'Re' 'Os'\n 'Ir' 'Pt' 'Au' 'Hg' 'Tl' 'Pb' 'Bi' 'Po' 'At' 'Rn' 'Fr' 'Ra' 'Ac' 'Th'\n 'Pa' 'U' 'Np' 'Pu' 'Am' 'Cm' 'Bk' 'Cf' 'Es' 'Fm' 'Md' 'No' 'Lr' 'Rf' 'Db'\n 'Sg' 'Bh' 'Hs' 'Mt' 'Ds ' 'Rg ' 'Cn ' 'Nh' 'Fl' 'Mc' 'Lv' 'Ts' 'Og']\n[[0. 0. 0.]\n [0. 0. 0.]\n [0. 0. 0.]]\n"
    }
   ],
   "source": [
    "# Draw a Lewis dot diagram\n",
    "lewisDi = np.zeros((3,3))\n",
    "atom = np.array(periodicTable[\"Symbol\"])\n",
    "print(atom)\n",
    "print(lewisDi)\n",
    "#matplotlib\n",
    "# fig, ax = plt.subplots()\n",
    "# im = ax.imshow(atom)\n",
    "# ax.set_xticks(np.arange())\n",
    "# ax.set_yticks(np.arange())\n"
   ]
  },
  {
   "cell_type": "markdown",
   "metadata": {},
   "source": [
    "<h2>Key Takeaways</h2>\n",
    "<ul>\n",
    "    <li>Lewis electron dot diagrams use dots to represent valence electrons around an atomic symbol.</li>\n",
    "    <li>Lewis electron dot diagrams for ions have less (for cations) or more (for anions) dots than the corresponding atom.</li>\n",
    "</ul>"
   ]
  },
  {
   "cell_type": "markdown",
   "metadata": {},
   "source": [
    "# 9.2 Electron Transfer: Ionic Bonds"
   ]
  },
  {
   "cell_type": "markdown",
   "metadata": {},
   "source": [
    "<h2>Ionic compounds</h2>\n",
    "<ol>\n",
    "<li>Contain metals and non-metals</li>\n",
    "<li>electrons are transferred</li>\n",
    "<li>atoms and groups of atoms exist as ions (charged + or -)</li>\n",
    "<li>Ions are held together by electrostatic forces (positive attracted to negative)</li>\n",
    "</ol>\n",
    "<h2>Covalent compounds</h2>\n",
    "<ol>\n",
    "<li>Contain two or more non-metals</li>\n",
    "<li>electrons are shared</li>\n",
    "<li>No charges</li>\n",
    "<li>Atoms held together by covalent bonds</li>\n",
    "</ol>\n"
   ]
  },
  {
   "cell_type": "markdown",
   "metadata": {},
   "source": [
    "<ul>\n",
    "<li>The <b>octet rule</b> is the tendency for atoms to share or transfer electrons to obtain a stable configuration of 8 valence electrons</li>\n",
    "<li><i>is associated with the stability of the noble gases except for He</i></li>\n",
    "</ul>"
   ]
  },
  {
   "cell_type": "markdown",
   "metadata": {},
   "source": [
    "![Electron Transfer](https://saylordotorg.github.io/text_introductory-chemistry/section_13/691ec09941f2cae3a9e8bf95252641bc.jpg)"
   ]
  },
  {
   "cell_type": "markdown",
   "metadata": {},
   "source": [
    "<p>The strength of ionic bonding depends on two major characteristics: the magnitude of the charges and the size of the ion. The greater the magnitude of the charge, the stronger the ionic bond. The smaller the ion, the stronger the ionic bond (because a smaller ion size allows the ions to get closer together). The measured strength of ionic bonding is called the <b>lattice energy</b>. </p>"
   ]
  },
  {
   "cell_type": "markdown",
   "metadata": {},
   "source": [
    "<div class=\"table block\" id=\"ball-ch09_s02_t01\" frame=\"all\">\n",
    "        <p class=\"title\"><span class=\"title-prefix\">Table 9.1</span> Lattice Energies of Some Ionic Compounds</p>\n",
    "        <table cellpadding=\"0\" cellspacing=\"0\">\n",
    "            <thead>\n",
    "                <tr>\n",
    "                    <th>Compound</th>\n",
    "                    <th align=\"right\">Lattice Energy (kJ/mol)</th>\n",
    "                </tr>\n",
    "            </thead>\n",
    "            <tbody>\n",
    "                <tr>\n",
    "                    <td>LiF</td>\n",
    "                    <td align=\"right\">1,036</td>\n",
    "                </tr>\n",
    "                <tr>\n",
    "                    <td>LiCl</td>\n",
    "                    <td align=\"right\">853</td>\n",
    "                </tr>\n",
    "                <tr>\n",
    "                    <td>NaCl</td>\n",
    "                    <td align=\"right\">786</td>\n",
    "                </tr>\n",
    "                <tr>\n",
    "                    <td>NaBr</td>\n",
    "                    <td align=\"right\">747</td>\n",
    "                </tr>\n",
    "                <tr>\n",
    "                    <td>MgF<sub class=\"subscript\">2</sub>\n",
    "</td>\n",
    "                    <td align=\"right\">2,957</td>\n",
    "                </tr>\n",
    "                <tr>\n",
    "                    <td>Na<sub class=\"subscript\">2</sub>O</td>\n",
    "                    <td align=\"right\">2,481</td>\n",
    "                </tr>\n",
    "                <tr>\n",
    "                    <td>MgO</td>\n",
    "                    <td align=\"right\">3,791</td>\n",
    "                </tr>\n",
    "            </tbody>\n",
    "        </table>\n",
    "    </div>"
   ]
  },
  {
   "cell_type": "markdown",
   "metadata": {},
   "source": [
    "# 9.3 Covalent Bonds"
   ]
  },
  {
   "cell_type": "markdown",
   "metadata": {},
   "source": [
    "<ul>\n",
    "    <li>In molecular compounds, atoms share electrons to reach a stable octet.</li>\n",
    "    <li>Each Shared pair can be drawn as a line.</li>\n",
    "    <li>the line represents a covalent bond which contains two electrons</li>\n",
    "</ul>"
   ]
  },
  {
   "cell_type": "markdown",
   "metadata": {},
   "source": [
    "<h2>Key Takeaways</h2>\n",
    "<ul class=\"itemizedlist\" id=\"ball-ch09_s02_l02\">\n",
    "            <li>The tendency to form species that have eight electrons in the valence shell is called the octet rule.</li>\n",
    "            <li>The attraction of oppositely charged ions caused by electron transfer is called an ionic bond.</li>\n",
    "            <li>The strength of ionic bonding depends on the magnitude of the charges and the sizes of the ions.</li>\n",
    "        </ul>"
   ]
  },
  {
   "cell_type": "markdown",
   "metadata": {},
   "source": [
    "# 9.4 Other Aspects of Covalent Bonds (bond energies not covered)"
   ]
  },
  {
   "cell_type": "markdown",
   "metadata": {},
   "source": [
    "<div class=\"learning_objectives editable block\" id=\"ball-ch09_s04_n01\">\n",
    "        <h3 class=\"title\">Learning Objectives</h3>\n",
    "        <ol class=\"orderedlist\" id=\"ball-ch09_s04_l01\">\n",
    "            <li>Describe a nonpolar bond and a polar bond.</li>\n",
    "            <li>Use electronegativity to determine whether a bond between two elements will be nonpolar covalent, polar covalent, or ionic.</li>\n",
    "            <li>Describe the bond energy of a covalent bond.</li>\n",
    "        </ol>\n",
    "    </div>"
   ]
  },
  {
   "cell_type": "markdown",
   "metadata": {},
   "source": [
    "![Nonpolar covalent bond](https://saylordotorg.github.io/text_introductory-chemistry/section_13/2ee12b4f444ad22c420d6606d216ec95.jpg)\n",
    "<p>The equal sharing of electrons in a covalent bond is called a <b>nonpolar covalent bond</b>.</p>"
   ]
  },
  {
   "cell_type": "markdown",
   "metadata": {},
   "source": [
    "![polar covalent bond](https://saylordotorg.github.io/text_introductory-chemistry/section_13/10becee6b88bd66cc5e79934d46b3b3f.jpg)\n",
    "![partial negative charges](https://saylordotorg.github.io/text_introductory-chemistry/section_13/65e3cee0b9901162fbf170df99a88bc2.jpg)\n",
    "<p>A covalent bond between different atoms that attract the shared electrons by different amounts and cause an imbalance of electron distribution is called a <b>polar covalent bond</b>.</p>"
   ]
  },
  {
   "cell_type": "markdown",
   "metadata": {},
   "source": [
    "![electronegativity](https://saylordotorg.github.io/text_introductory-chemistry/section_13/86495288d4baa241709baaed0454b93a.jpg)\n",
    "<p>Technically, any covalent bond between two different elements is polar. However, the degree of polarity is important. A covalent bond between two different elements may be so slightly imbalanced that the bond is, essentially, nonpolar. A bond may be so polar that an electron actually transfers from one atom to another, forming a true ionic bond.</p>\n",
    "<p>a scale called electronegativity, is a scale for judging how much atoms of any element attract electrons. Electronegativity is a unitless number; the higher the number, the more an atom attracts electrons.</p>"
   ]
  },
  {
   "cell_type": "markdown",
   "metadata": {},
   "source": [
    "<div class=\"informaltable block\" frame=\"all\">\n",
    "        <table cellpadding=\"0\" cellspacing=\"0\">\n",
    "            <thead>\n",
    "                <tr>\n",
    "                    <th>Electronegativity Difference</th>\n",
    "                    <th>Bond Type</th>\n",
    "                </tr>\n",
    "            </thead>\n",
    "            <tbody>\n",
    "                <tr>\n",
    "                    <td>0</td>\n",
    "                    <td>nonpolar covalent</td>\n",
    "                </tr>\n",
    "                <tr>\n",
    "                    <td>0–0.4</td>\n",
    "                    <td>slightly polar covalent</td>\n",
    "                </tr>\n",
    "                <tr>\n",
    "                    <td>0.4–1.9</td>\n",
    "                    <td>definitely polar covalent</td>\n",
    "                </tr>\n",
    "                <tr>\n",
    "                    <td>&gt;1.9</td>\n",
    "                    <td>likely ionic</td>\n",
    "                </tr>\n",
    "            </tbody>\n",
    "        </table>\n",
    "    </div>"
   ]
  },
  {
   "cell_type": "markdown",
   "metadata": {},
   "source": [
    "<p>The approximate amount of energy needed to break a covalent bond is called the bond energy of the covalent bond.</p>"
   ]
  },
  {
   "cell_type": "markdown",
   "metadata": {},
   "source": [
    "<div class=\"table block\" id=\"ball-ch09_s04_t01\" frame=\"all\">\n",
    "        <p class=\"title\"><span class=\"title-prefix\">Table 9.2</span> Bond Energies of Covalent Bonds</p>\n",
    "        <table cellpadding=\"0.5\" cellspacing=\"0.5\">\n",
    "            <thead>\n",
    "                <tr>\n",
    "                    <th>Bond</th>\n",
    "                    <th align=\"right\">Energy (kJ/mol)</th>\n",
    "                    <th>&nbsp;</th>\n",
    "                    <th>Bond</th>\n",
    "                    <th align=\"right\">Energy (kJ/mol)</th>\n",
    "                </tr>\n",
    "            </thead>\n",
    "            <tbody>\n",
    "                <tr>\n",
    "                    <td>C–C</td>\n",
    "                    <td align=\"right\">348</td>\n",
    "                    <td rowspan=\"11\">&nbsp;</td>\n",
    "                    <td>N–N</td>\n",
    "                    <td align=\"right\">163</td>\n",
    "                </tr>\n",
    "                <tr>\n",
    "                    <td>C=C</td>\n",
    "                    <td align=\"right\">611</td>\n",
    "                    <td>N=N</td>\n",
    "                    <td>418</td>\n",
    "                </tr>\n",
    "                <tr>\n",
    "                    <td>C≡C</td>\n",
    "                    <td align=\"right\">837</td>\n",
    "                    <td>N≡N</td>\n",
    "                    <td>946</td>\n",
    "                </tr>\n",
    "                <tr>\n",
    "                    <td>C–O</td>\n",
    "                    <td align=\"right\">351</td>\n",
    "                    <td>N–H</td>\n",
    "                    <td>389</td>\n",
    "                </tr>\n",
    "                <tr>\n",
    "                    <td>C=O</td>\n",
    "                    <td align=\"right\">799</td>\n",
    "                    <td>O–O</td>\n",
    "                    <td>146</td>\n",
    "                </tr>\n",
    "                <tr>\n",
    "                    <td>C–Cl</td>\n",
    "                    <td align=\"right\">328</td>\n",
    "                    <td>O=O</td>\n",
    "                    <td>498</td>\n",
    "                </tr>\n",
    "                <tr>\n",
    "                    <td>C–H</td>\n",
    "                    <td align=\"right\">414</td>\n",
    "                    <td>O–H</td>\n",
    "                    <td>463</td>\n",
    "                </tr>\n",
    "                <tr>\n",
    "                    <td>F–F</td>\n",
    "                    <td align=\"right\">159</td>\n",
    "                    <td>S–H</td>\n",
    "                    <td>339</td>\n",
    "                </tr>\n",
    "                <tr>\n",
    "                    <td>H–Cl</td>\n",
    "                    <td align=\"right\">431</td>\n",
    "                    <td>S=O</td>\n",
    "                    <td>523</td>\n",
    "                </tr>\n",
    "                <tr>\n",
    "                    <td>H–F</td>\n",
    "                    <td align=\"right\">569</td>\n",
    "                    <td>Si–H</td>\n",
    "                    <td>293</td>\n",
    "                </tr>\n",
    "                <tr>\n",
    "                    <td>H–H</td>\n",
    "                    <td align=\"right\">436</td>\n",
    "                    <td>Si–O</td>\n",
    "                    <td>368</td>\n",
    "                </tr>\n",
    "            </tbody>\n",
    "        </table>\n",
    "    </div>"
   ]
  },
  {
   "cell_type": "markdown",
   "metadata": {},
   "source": [
    "<p>For bonds that involve the same two elements, a double bond is stronger than a single bond, and a triple bond is stronger than a double bond. The energies of multiple bonds are not exact multiples of the single bond energy; for carbon-carbon bonds, the energy increases somewhat less than double or triple the C–C bond energy, while for nitrogen-nitrogen bonds the bond energy increases at a rate greater than the multiple of the N–N single bond energy. </p>\n",
    "<p>To be broken, covalent bonds always require energy; that is, covalent bond breaking is always an <b><i>endothermic process</i></b>. Thus the ΔH for this process is positive:</p>\n",
    "\n",
    "<p>Molecule–O–H → Molecule–O + H ΔH ≈ +463 kJ/mol</p>\n",
    "<p>However, when making a covalent bond, energy is always given off; covalent bond making is always an <b><i>exothermic process</b></i>. Thus ΔH for this process is negative:</p>\n",
    "\n",
    "<p>Molecule–S + H → Molecule–S–H ΔH ≈ −339 kJ/mol</p>"
   ]
  },
  {
   "cell_type": "markdown",
   "metadata": {},
   "source": [
    "# 9.6 Molecular Shapes"
   ]
  },
  {
   "cell_type": "markdown",
   "metadata": {},
   "source": [
    "<p>The basic idea in molecular shapes is called <b>valence shell electron pair repulsion (VSEPR)</b>. It basically says that electron pairs, being composed of negatively charged particles, repel each other to get as far away from each other as possible. </p>\n",
    "<p>There are two types of electron groups: any type of bond—single, double, or triple—and lone electron pairs.</p>\n"
   ]
  },
  {
   "cell_type": "markdown",
   "metadata": {},
   "source": [
    "![180_degree_bond](https://saylordotorg.github.io/text_introductory-chemistry/section_13/401778f7294c5a37e7266cb22dde7172.jpg)"
   ]
  },
  {
   "cell_type": "markdown",
   "metadata": {},
   "source": [
    "<p>A molecule with three electron groups orients the three groups as far apart as possible. They adopt the positions of an equilateral triangle—120° apart and in a plane. The shape of such molecules is <b>trigonal planar</b>.</p>\n"
   ]
  },
  {
   "cell_type": "markdown",
   "metadata": {},
   "source": [
    "![120 trigonal planar](https://saylordotorg.github.io/text_introductory-chemistry/section_13/f6921a8b27b3424a026e7a18b7fc153a.jpg)"
   ]
  },
  {
   "cell_type": "markdown",
   "metadata": {},
   "source": [
    "<p>Some substances have a trigonal planar electron group distribution but have atoms bonded to only two of the three electron groups. An example is GeF2:</p>\n",
    "<p>From an electron group geometry perspective, GeF2 has a trigonal planar shape, but its real shape is dictated by the positions of the atoms. This shape is called <b>bent or angular</b>.</p>\n"
   ]
  },
  {
   "cell_type": "markdown",
   "metadata": {},
   "source": [
    "![no](https://saylordotorg.github.io/text_introductory-chemistry/section_13/5d01d79635f500312860c8ed7cc21922.jpg)"
   ]
  },
  {
   "cell_type": "markdown",
   "metadata": {},
   "source": [
    "<p>A molecule with four electron groups about the central atom orients the four groups in the direction of a tetrahedron, as shown in Figure 9.3 \"Tetrahedral Geometry\". If there are four atoms attached to these electron groups, then the molecular shape is also tetrahedral.</p>"
   ]
  },
  {
   "cell_type": "markdown",
   "metadata": {},
   "source": [
    "![tetrahedral](https://saylordotorg.github.io/text_introductory-chemistry/section_13/1a58d04da30a1850ffae4737d79bab7d.jpg)\n",
    "![carbon tetrahedral](https://saylordotorg.github.io/text_introductory-chemistry/section_13/5d2974d64f5e4b377ccba661db288677.jpg)\n"
   ]
  },
  {
   "cell_type": "markdown",
   "metadata": {},
   "source": [
    "![NH3 trigonal](https://saylordotorg.github.io/text_introductory-chemistry/section_13/60a1203be8b3265ce9f92930a1fbca45.jpg)\n",
    "<p class=\"para editable block\" id=\"ball-ch09_s06_p11\">Although the electron groups are oriented in the shape of a tetrahedron, from a molecular geometry perspective, the shape of NH<sub class=\"subscript\">3</sub> is <em class=\"emphasis\">trigonal pyramidal</em>.</p>"
   ]
  },
  {
   "cell_type": "markdown",
   "metadata": {},
   "source": [
    "![h20](https://saylordotorg.github.io/text_introductory-chemistry/section_13/fd4814a00933b7a5d8c53cab01af43ea.jpg)"
   ]
  },
  {
   "cell_type": "markdown",
   "metadata": {},
   "source": [
    "<p class=\"para editable block\" id=\"ball-ch09_s06_p13\">Although the electron groups are oriented in the shape of a tetrahedron, the shape of the molecule is <em class=\"emphasis\">bent</em> or <em class=\"emphasis\">angular</em>. A molecule with four electron groups about the central atom but only one electron group bonded to another atom is linear because there are only two atoms in the molecule.</p>"
   ]
  },
  {
   "cell_type": "markdown",
   "metadata": {},
   "source": [
    "<div class=\"table block\" id=\"ball-ch09_s06_t01\" frame=\"all\">\n",
    "        <p class=\"title\"><span class=\"title-prefix\">Table 9.3</span> Summary of Molecular Shapes</p>\n",
    "        <table cellpadding=\"0.5\" cellspacing=\"0.5\">\n",
    "            <thead>\n",
    "                <tr>\n",
    "                    <th align=\"center\">Number of Electron Groups<br> on Central Atom</th>\n",
    "                    <th align=\"center\">Number of <br>Surrounding Atoms</th>\n",
    "                    <th>Molecular Shape</th>\n",
    "                    <th>Angle</th>\n",
    "                </tr>\n",
    "            </thead>\n",
    "            <tbody>\n",
    "                <tr>\n",
    "                    <td align=\"center\">any</td>\n",
    "                    <td align=\"center\">1</td>\n",
    "                    <td>linear</td>\n",
    "                    <td align=\"right\">180</td>\n",
    "                </tr>\n",
    "                <tr>\n",
    "                    <td align=\"center\">2</td>\n",
    "                    <td align=\"center\">2</td>\n",
    "                    <td>linear</td>\n",
    "                    <td align=\"right\">180</td>\n",
    "                </tr>\n",
    "                <tr>\n",
    "                    <td align=\"center\">3</td>\n",
    "                    <td align=\"center\">3</td>\n",
    "                    <td>trigonal planar</td>\n",
    "                    <td align=\"right\">120</td>\n",
    "                </tr>\n",
    "                <tr>\n",
    "                    <td align=\"center\">3</td>\n",
    "                    <td align=\"center\">2</td>\n",
    "                    <td>bent</td>\n",
    "                    <td align=\"right\">120</td>\n",
    "                </tr>\n",
    "                <tr>\n",
    "                    <td align=\"center\">4</td>\n",
    "                    <td align=\"center\">4</td>\n",
    "                    <td>tetrahedral</td>\n",
    "                    <td align=\"right\">109.5</td>\n",
    "                </tr>\n",
    "                <tr>\n",
    "                    <td align=\"center\">4</td>\n",
    "                    <td align=\"center\">3</td>\n",
    "                    <td>trigonal pyramidal</td>\n",
    "                    <td align=\"right\">109.5</td>\n",
    "                </tr>\n",
    "                <tr>\n",
    "                    <td align=\"center\">4</td>\n",
    "                    <td align=\"center\">2</td>\n",
    "                    <td>bent</td>\n",
    "                    <td align=\"right\">109.5</td>\n",
    "                </tr>\n",
    "            </tbody>\n",
    "        </table>\n",
    "    </div>"
   ]
  },
  {
   "cell_type": "markdown",
   "metadata": {},
   "source": [
    "<table class=\"mt-responsive-table\" align=\"center\" border=\"1\" cellpadding=\"1\" cellspacing=\"1\" height=\"353\" style=\"table-layout: fixed;\" width=\"613\">\n",
    "\t<thead>\n",
    "\t\t<tr>\n",
    "\t\t\t<th scope=\"col\" style=\"text-align: center;\">Number of electron groups</th>\n",
    "\t\t\t<th scope=\"col\" style=\"text-align: center;\">Name of electron group geometry</th>\n",
    "\t\t</tr>\n",
    "\t</thead>\n",
    "\t<tbody>\n",
    "\t\t<tr>\n",
    "\t\t\t<td style=\"text-align: center;\">2</td>\n",
    "\t\t\t<td style=\"text-align: center;\">linear</td>\n",
    "\t\t</tr>\n",
    "\t\t<tr>\n",
    "\t\t\t<td style=\"text-align: center;\">3</td>\n",
    "\t\t\t<td style=\"text-align: center;\">trigonal-planar</td>\n",
    "\t\t</tr>\n",
    "\t\t<tr>\n",
    "\t\t\t<td style=\"text-align: center;\">4</td>\n",
    "\t\t\t<td style=\"text-align: center;\">tetrahedral</td>\n",
    "\t\t</tr>\n",
    "\t\t<tr>\n",
    "\t\t\t<td style=\"text-align: center;\">5</td>\n",
    "\t\t\t<td style=\"text-align: center;\">trigonal-bipyramidal</td>\n",
    "\t\t</tr>\n",
    "\t\t<tr>\n",
    "\t\t\t<td style=\"text-align: center;\">6</td>\n",
    "\t\t\t<td style=\"text-align: center;\">octahedral</td>\n",
    "\t\t</tr>\n",
    "\t</tbody>\n",
    "</table>"
   ]
  },
  {
   "cell_type": "markdown",
   "metadata": {},
   "source": [
    "<a>https://chem.libretexts.org/Bookshelves/Physical_and_Theoretical_Chemistry_Textbook_Maps/Supplemental_Modules_(Physical_and_Theoretical_Chemistry)/Chemical_Bonding/Lewis_Theory_of_Bonding/Geometry_of_Molecules#Valence-Shell_Electron-Pair_Repulsion_Theory</a>\n",
    "<img src=\"https://chem.libretexts.org/@api/deki/files/10162/linear.jpg?revision=1\">\n",
    "<img src=\"https://chem.libretexts.org/@api/deki/files/10176/trigonal_planer.jpg?revision=1\">\n",
    "<img src=\"https://chem.libretexts.org/@api/deki/files/10159/bent.jpg?revision=1\">\n",
    "<img src=\"https://chem.libretexts.org/@api/deki/files/9883/animated-CCl4.gif?revision=1\">\n",
    "<img src=\"https://chem.libretexts.org/@api/deki/files/10177/trigonal_pyramidal.jpg?revision=1\">\n",
    "<img src=\"https://chem.libretexts.org/@api/deki/files/10160/bent2.jpg?revision=1\">\n",
    "<img src=\"https://chem.libretexts.org/@api/deki/files/10175/trigonal_bipyramidal.jpg?revision=1\">"
   ]
  }
 ],
 "metadata": {
  "language_info": {
   "codemirror_mode": {
    "name": "ipython",
    "version": 3
   },
   "file_extension": ".py",
   "mimetype": "text/x-python",
   "name": "python",
   "nbconvert_exporter": "python",
   "pygments_lexer": "ipython3",
   "version": "3.7.3-final"
  },
  "orig_nbformat": 2,
  "kernelspec": {
   "name": "python37332bited2485c13ff240cf8cfbd16f6d658b5f",
   "display_name": "Python 3.7.3 32-bit"
  }
 },
 "nbformat": 4,
 "nbformat_minor": 2
}