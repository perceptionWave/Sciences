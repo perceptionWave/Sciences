{
 "cells": [
  {
   "cell_type": "markdown",
   "metadata": {},
   "source": [
    "<h1>Chapter 12: Arrhenius Acids And Bases</h1>"
   ]
  },
  {
   "cell_type": "markdown",
   "metadata": {},
   "source": [
    "<h1> 12.2 Bronsted - Lowry Acids and Bases</h1>\n",
    "<h3>Acid: proton (H+) Donor</h3>\n",
    "<ul>\n",
    "    <li>formula must contain H</li>\n",
    "</ul>\n",
    "<h3>Base: proton (H+) acceptor</h3>\n",
    "<ul>\n",
    "    <li>must have a lone pair</li>\n",
    "</ul>\n",
    "<p>the products of a Bronsted - Lowry acid-base reaction are a the conjugate acid of the original base and the conjugate bas of the original acid</p>\n",
    "\n",
    "<h2>Writing Conjugate Acids and Bases</h2>\n",
    "<ol>\n",
    "    <li>A conjugate acid - base pair consists of two species that differ only by an H+</li>\n",
    "    <li>The one with a more hydrogen is the acid</li>\n",
    "    <li>The acid has a charge +1 more than the base</li>\n",
    "</ol>"
   ]
  }
 ],
 "metadata": {
  "language_info": {
   "codemirror_mode": {
    "name": "ipython",
    "version": 3
   },
   "file_extension": ".py",
   "mimetype": "text/x-python",
   "name": "python",
   "nbconvert_exporter": "python",
   "pygments_lexer": "ipython3",
   "version": 3
  },
  "orig_nbformat": 2
 },
 "nbformat": 4,
 "nbformat_minor": 2
}