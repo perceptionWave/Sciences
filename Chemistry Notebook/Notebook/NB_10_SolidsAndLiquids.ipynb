{
 "cells": [
  {
   "cell_type": "markdown",
   "metadata": {},
   "source": [
    "<h1>Chapter 10</h1>"
   ]
  },
  {
   "cell_type": "markdown",
   "metadata": {},
   "source": [
    "<div class=\"table block\" id=\"ball-ch10_t01\" frame=\"all\">\n",
    "        <p class=\"title\"><span class=\"title-prefix\">Table 10.1</span> Properties of the Three Phases of Matter</p>\n",
    "        <table cellpadding=\"0\" cellspacing=\"0\">\n",
    "            <thead>\n",
    "                <tr>\n",
    "                    <th>Phase</th>\n",
    "                    <th>Shape</th>\n",
    "                    <th>Density</th>\n",
    "                    <th>Compressibility</th>\n",
    "                </tr>\n",
    "            </thead>\n",
    "            <tbody>\n",
    "                <tr>\n",
    "                    <td>Gas</td>\n",
    "                    <td>Fills entire container</td>\n",
    "                    <td>low</td>\n",
    "                    <td>high</td>\n",
    "                </tr>\n",
    "                <tr>\n",
    "                    <td>Liquid</td>\n",
    "                    <td>Fills a container from bottom to top</td>\n",
    "                    <td>high</td>\n",
    "                    <td>low</td>\n",
    "                </tr>\n",
    "                <tr>\n",
    "                    <td>Solid</td>\n",
    "                    <td>rigid</td>\n",
    "                    <td>high</td>\n",
    "                    <td>low</td>\n",
    "                </tr>\n",
    "            </tbody>\n",
    "        </table>\n",
    "    </div>"
   ]
  },
  {
   "cell_type": "markdown",
   "metadata": {},
   "source": [
    "<h1>10.1 Intermolecular Forces</h1>"
   ]
  },
  {
   "cell_type": "markdown",
   "metadata": {},
   "source": [
    "<p>Relate phase to intermolecular forces.</p>"
   ]
  },
  {
   "cell_type": "markdown",
   "metadata": {},
   "source": [
    "<p>A force present in all substances with electrons is the <b style=\"color:red\">dispersion force</b> (sometimes called the London dispersion force, after the physicist Fritz London, who first described this force in the early 1900s). This interaction is caused by the instantaneous position of an electron in a molecule, which temporarily makes that point of the molecule negatively charged and the rest of the molecule positively charged. In an instant, the electron is now somewhere else, but the fleeting imbalance of electric charge in the molecule allows molecules to interact with each other. As you might expect, the greater the number of electrons in a species, the stronger the dispersion force; this partially explains why smaller molecules are gases and larger molecules are liquids and solids at the same temperature.</p>\n",
    "<p>Molecules with a permanent dipole moment experience <b style=\"color:red\">dipole-dipole</b> interactions, which are generally stronger than dispersion forces if all other things are equal. The oppositely charged ends of a polar molecule, which have partial charges on them, attract each other</p>"
   ]
  },
  {
   "cell_type": "markdown",
   "metadata": {},
   "source": [
    "![Dipole Dipole interactions](https://saylordotorg.github.io/text_introductory-chemistry/section_14/80cbd86b0f980c19c302cac2baf15a84.jpg)"
   ]
  },
  {
   "cell_type": "markdown",
   "metadata": {},
   "source": [
    "<p id=\"left\">An unusually strong form of dipole-dipole interaction is called <b style=\"color:red\">hydrogen bonding</b>. Hydrogen bonding is found in molecules with an H atom bonded to an N atom, an O atom, or an F atom. Such covalent bonds are very polar, and the dipole-dipole interaction between these bonds in two or more molecules is strong enough to create a new category of intermolecular force. Hydrogen bonding is the reason water has unusual properties. For such a small molecule (its molar mass is only 18 g/mol), H2O has relatively high melting and boiling points. Its boiling point is 373 K (100°C), while the boiling point of a similar molecule, H2S, is 233 K (−60°C). This is because H2O molecules experience hydrogen bonding, while H2S molecules do not. This strong attraction between H2O molecules requires additional energy to separate the molecules in the condensed phase, so its boiling point is higher than would be expected. </p>"
   ]
  },
  {
   "cell_type": "markdown",
   "metadata": {},
   "source": [
    "<img src=\"https://saylordotorg.github.io/text_introductory-chemistry/section_14/30e252771debb37fad7fc5cbc1c405ae.jpg\" alt=\"Hydrogen Bonding\" width=\"25%\" height=\"25%\">"
   ]
  },
  {
   "cell_type": "markdown",
   "metadata": {},
   "source": [
    "<h1>10.3 Properties of Liquids</h1>"
   ]
  },
  {
   "cell_type": "markdown",
   "metadata": {},
   "source": [
    "<div class=\"learning_objectives editable block\" id=\"ball-ch10_s03_n01\">\n",
    "        <h3 class=\"title\">Learning Objectives</h3>\n",
    "        <ol class=\"orderedlist\" id=\"ball-ch10_s03_l01\">\n",
    "            <li>Define the vapor pressure of liquids.</li>\n",
    "            <li>Explain the origin of both surface tension and capillary action.</li>\n",
    "        </ol>\n",
    "    </div>"
   ]
  },
  {
   "cell_type": "markdown",
   "metadata": {},
   "source": [
    "<p>The formation of a gas from a liquid at temperatures below the boiling point is called evaporation. At these temperatures, the material in the gas phase is called vapor, rather than gas; the term gas is reserved for when the gas phase is the stable phase.</p>"
   ]
  },
  {
   "cell_type": "markdown",
   "metadata": {},
   "source": [
    "<h1>Solids</h1>"
   ]
  }
 ],
 "metadata": {
  "language_info": {
   "codemirror_mode": {
    "name": "ipython",
    "version": 3
   },
   "file_extension": ".py",
   "mimetype": "text/x-python",
   "name": "python",
   "nbconvert_exporter": "python",
   "pygments_lexer": "ipython3",
   "version": 3
  },
  "orig_nbformat": 2
 },
 "nbformat": 4,
 "nbformat_minor": 2
}