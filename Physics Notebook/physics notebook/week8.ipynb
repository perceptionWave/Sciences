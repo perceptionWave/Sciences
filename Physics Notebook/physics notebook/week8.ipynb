{
 "metadata": {
  "language_info": {
   "codemirror_mode": {
    "name": "ipython",
    "version": 3
   },
   "file_extension": ".py",
   "mimetype": "text/x-python",
   "name": "python",
   "nbconvert_exporter": "python",
   "pygments_lexer": "ipython3",
   "version": 3
  },
  "orig_nbformat": 2
 },
 "nbformat": 4,
 "nbformat_minor": 2,
 "cells": [
  {
   "source": [
    "<h1>Momentum of a particle</h1>"
   ],
   "cell_type": "markdown",
   "metadata": {}
  },
  {
   "cell_type": "code",
   "execution_count": null,
   "metadata": {},
   "outputs": [],
   "source": [
    "def Momentum_p(mass, velocity):return(mass*velocity)\n",
    "def KineticEnergy_KE(mass, velocity):return((1/2)*mass*velocity**2)\n",
    "def NewtonsSecondLaw_F(delta_momentum, delta_time):return(momentum/time)\n",
    "def Acceleration_a(delta_velocity, delta_time):return(delta_velocity/delta_time)\n",
    "def Impulse_J(F_net, delta_time):return(F_net*delta_time)\n",
    "def Delta_velocity(v1, v0):return(v1-v0)\n",
    "def Delta_Time(t1, t0):return(t1-t0)\n",
    "def F_NET(force_array):\n",
    "    for F in force_array:\n",
    "        F_net+=F\n",
    "    return(F_net)\n",
    "def Force(mass, acceleration):return(mass*acceleration)\n"
   ]
  },
  {
   "source": [
    "<h1>Collisions</h1>"
   ],
   "cell_type": "markdown",
   "metadata": {}
  },
  {
   "cell_type": "code",
   "execution_count": null,
   "metadata": {},
   "outputs": [],
   "source": [
    "def final_velocity(m1, v1i, m2, v2i):return((m1*v1i+m2*v2i)/(m1+m2))"
   ]
  },
  {
   "source": [
    "<h1>Recoil</h1>"
   ],
   "cell_type": "markdown",
   "metadata": {}
  },
  {
   "cell_type": "code",
   "execution_count": null,
   "metadata": {},
   "outputs": [],
   "source": []
  }
 ]
}