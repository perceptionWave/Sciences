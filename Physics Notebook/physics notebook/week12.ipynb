{
 "cells": [
  {
   "cell_type": "code",
   "execution_count": 2,
   "metadata": {},
   "outputs": [],
   "source": [
    "import math"
   ]
  },
  {
   "cell_type": "markdown",
   "metadata": {},
   "source": [
    "<h1>13-1 Atomic Theory of Matter</h1>\n",
    "<p><b>Atomic mass</b> and <b>Molecular mass</b> are based on arbitrarily assigning the most abundant form of carbon atom, <sup>12</sup>C, the atomic mass of exactly 12.0000 <b>unified atomic mass units (u).</b> In terms of kilograms: 1 u = 1.6605e-27 kg</p>\n",
    "\n",
    "<p>An <b>element</b> is a substance that cannot be broken down into simpler substances by chemical means. <b>Compounds</b> are substances made up of elements.</p>"
   ]
  },
  {
   "cell_type": "code",
   "execution_count": 3,
   "metadata": {},
   "outputs": [],
   "source": [
    "unifiedAtomicMass = 1.6605*10**(-27) #kg"
   ]
  },
  {
   "cell_type": "markdown",
   "metadata": {},
   "source": [
    "<h1>13-2 Temperatures and Thermometers</h1>\n",
    "<h2>Temperature</h2>\n",
    "<p>A measure of coldness or warmness of a substance</p>\n",
    "<p>From Latin: temperare \"to moderate\" used in this sense by Galileo and then by Robert Boyle in 1670 as a \"degree of heat or cold\"</p>\n",
    "<p>Thermometer: From the Greek, thermos, meaning \"hot\"</p>\n",
    "<ul>Celsius: \n",
    "\t<li>Freezing point: 0°C\n",
    "\t<li>Boiling point of water at 1 atm: 100°C\n",
    "</ul>\n",
    "<ul>\n",
    "Fahrenheit:\n",
    "\t<li>Freezing point of salty ocean water: 0°F\n",
    "    <li>Temperature of human body (kind of): 100°F\n",
    "</ul>\n"
   ]
  },
  {
   "cell_type": "code",
   "execution_count": 4,
   "metadata": {},
   "outputs": [],
   "source": [
    "T_C=32\n",
    "T_F=89.6\n",
    "\n",
    "def Temp_Celcius(T_F):return((5*(T_F-32))/9)\n",
    "def Temp_Fahrenheit(T_C):return((9*(T_C))/5+32)\n",
    "\n"
   ]
  },
  {
   "cell_type": "markdown",
   "metadata": {},
   "source": [
    "<h1>13-4 Thermal Expansion</h1>\n",
    "<h2>Linear Expansion</h2>"
   ]
  },
  {
   "cell_type": "code",
   "execution_count": 5,
   "metadata": {},
   "outputs": [],
   "source": [
    "# change in length = acceleration * length_0 * Temperature\n",
    "# delta_ell = alpha * ell_0 * delta_T\n",
    "# "
   ]
  },
  {
   "cell_type": "markdown",
   "metadata": {},
   "source": [
    "<h1>Definitions</h1>"
   ]
  },
  {
   "cell_type": "code",
   "execution_count": 6,
   "metadata": {},
   "outputs": [],
   "source": [
    "avogadrosNumber=6.02*10**23\n",
    "R = 8.314 #J/K\n",
    "Pascal = 1.013*10**5 \n",
    "\n",
    "def Volume(P, n, R, T):return((n*R*T)/P)\n",
    "def Num_mole(molecules):return(molecules/avogadrosNumber) \n",
    "def V_mole(molecules, R, T, P):return((molecules*R*T)/P)\n",
    "def Pressure(atm):return(atm*Pascal)\n",
    "\n",
    "def Area_Rectangle(Height, lateralWidth):return(Height*lateralWidth)\n",
    "def Volume_Cube(area, depth):return(area*depth) "
   ]
  },
  {
   "cell_type": "markdown",
   "metadata": {},
   "source": [
    "<h1>Lab</h1>"
   ]
  },
  {
   "cell_type": "code",
   "execution_count": 7,
   "metadata": {},
   "outputs": [
    {
     "name": "stdout",
     "output_type": "stream",
     "text": [
      "2.4916943521594687e-22\n"
     ]
    }
   ],
   "source": [
    "molecules = 150\n",
    "n = Num_mole(molecules)\n",
    "print(n)"
   ]
  },
  {
   "cell_type": "code",
   "execution_count": 8,
   "metadata": {},
   "outputs": [
    {
     "name": "stdout",
     "output_type": "stream",
     "text": [
      "3.4858117501773237e-25\n"
     ]
    }
   ],
   "source": [
    "T = 300\n",
    "P = Pressure(17.6)\n",
    "V = Volume(P, n, R, T)\n",
    "print(V)"
   ]
  },
  {
   "cell_type": "code",
   "execution_count": 9,
   "metadata": {},
   "outputs": [
    {
     "name": "stdout",
     "output_type": "stream",
     "text": [
      "15 nm = 11.2 atm = 1.134560E+06 Pa\n",
      "14 nm = 12.1 atm = 1.225730E+06 Pa\n",
      "13 nm = 13.9 atm = 1.408070E+06 Pa\n",
      "12 nm = 15.0 atm = 1.519500E+06 Pa\n",
      "11 nm = 16.2 atm = 1.641060E+06 Pa\n",
      "10 nm = 17.7 atm = 1.793010E+06 Pa\n",
      "9 nm = 19.4 atm = 1.965220E+06 Pa\n",
      "8 nm = 21.8 atm = 2.208340E+06 Pa\n",
      "7 nm = 25.2 atm = 2.552760E+06 Pa\n",
      "6 nm = 29.2 atm = 2.957960E+06 Pa\n",
      "5 nm = 34.9 atm = 3.535370E+06 Pa\n"
     ]
    }
   ],
   "source": [
    "w = 15\n",
    "P_ray = [11.2, 12.1, 13.9, 15.0, 16.2, 17.7, 19.4, 21.8, 25.2, 29.2, 34.9]\n",
    "for x in P_ray:\n",
    "    P = x*Pascal\n",
    "    print(str(w)+' nm = '+str(x) + ' atm = ' + format(P, '.6E')+' Pa')\n",
    "    w -= 1"
   ]
  },
  {
   "cell_type": "code",
   "execution_count": 10,
   "metadata": {},
   "outputs": [
    {
     "name": "stdout",
     "output_type": "stream",
     "text": [
      "90.9\n"
     ]
    }
   ],
   "source": [
    "H = 9.09\n",
    "W_l = 10\n",
    "A = Area_Rectangle(H, W_l)\n",
    "print(A)"
   ]
  },
  {
   "cell_type": "code",
   "execution_count": 11,
   "metadata": {},
   "outputs": [
    {
     "name": "stdout",
     "output_type": "stream",
     "text": [
      "909.0\n"
     ]
    }
   ],
   "source": [
    "d = 10\n",
    "V = Volume_Cube(A, d)\n",
    "print(V)"
   ]
  },
  {
   "cell_type": "code",
   "execution_count": 12,
   "metadata": {},
   "outputs": [
    {
     "name": "stdout",
     "output_type": "stream",
     "text": [
      "15 = 1363.5\t1/V = 0.0007334066740007334\n",
      "14 = 1272.6\t1/V = 0.0007857928650007858\n",
      "13 = 1181.7\t1/V = 0.0008462384700008462\n",
      "12 = 1090.8\t1/V = 0.0009167583425009168\n",
      "11 = 999.9\t1/V = 0.001000100010001\n",
      "10 = 909.0\t1/V = 0.0011001100110011\n",
      "9 = 818.1\t1/V = 0.001222344456667889\n",
      "8 = 727.2\t1/V = 0.001375137513751375\n",
      "7 = 636.3\t1/V = 0.0015715857300015717\n",
      "6 = 545.4\t1/V = 0.0018335166850018336\n",
      "5 = 454.5\t1/V = 0.0022002200220022\n"
     ]
    }
   ],
   "source": [
    "w = 15\n",
    "while w >= 5:\n",
    "    A = Area_Rectangle(H, w)\n",
    "    V = Volume_Cube(A, d)\n",
    "    print(str(w)+' = '+str(V)+'\\t1/V = '+str(1/V))\n",
    "    w-=1"
   ]
  },
  {
   "cell_type": "code",
   "execution_count": 13,
   "metadata": {},
   "outputs": [
    {
     "name": "stdout",
     "output_type": "stream",
     "text": [
      "Width = 10 nm\n",
      "\n",
      "300 K: 17.7 atm = 1.793010E+06 Pa\n",
      "320 K: 18.6 atm = 1.884180E+06 Pa\n",
      "340 K: 19.7 atm = 1.995610E+06 Pa\n",
      "360 K: 21.1 atm = 2.137430E+06 Pa\n",
      "380 K: 22.1 atm = 2.238730E+06 Pa\n",
      "400 K: 23.3 atm = 2.360290E+06 Pa\n",
      "420 K: 24.1 atm = 2.441330E+06 Pa\n",
      "440 K: 25.3 atm = 2.562890E+06 Pa\n",
      "460 K: 27.0 atm = 2.735100E+06 Pa\n",
      "480 K: 28.2 atm = 2.856660E+06 Pa\n"
     ]
    }
   ],
   "source": [
    "P_ray = [17.7, 18.6,19.7,21.1,22.1,23.3,24.1,25.3,27.0,28.2]\n",
    "T = 300\n",
    "print('Width = 10 nm\\n')\n",
    "for x in P_ray:\n",
    "    P=x*Pascal\n",
    "    print(str(T)+' K: '+str(x) + ' atm = ' + format(P, '.6E')+' Pa')\n",
    "    T+=20"
   ]
  },
  {
   "cell_type": "markdown",
   "metadata": {},
   "source": [
    "<h1>Recitation</h1>"
   ]
  },
  {
   "cell_type": "markdown",
   "metadata": {},
   "source": [
    "<p>1.\tA storage tank contains 21.6 kg of nitrogen (N<sub>2</sub>) at an absolute pressure of 3.53atm . What will the pressure be if the nitrogen is replaced by an equal mass of CO<sub>2</sub>?<p>"
   ]
  },
  {
   "cell_type": "code",
   "execution_count": 14,
   "metadata": {},
   "outputs": [
    {
     "name": "stdout",
     "output_type": "stream",
     "text": [
      "3.576E+05\n"
     ]
    }
   ],
   "source": [
    "m = 21.6\n",
    "P = Pressure(3.53)\n",
    "m_carbon = 0.00120107\n",
    "m_oxygen = 0.00159994\n",
    "\n",
    "print(format(P, '.3E'))\n",
    "\n",
    "# 2.25"
   ]
  },
  {
   "cell_type": "markdown",
   "metadata": {},
   "source": [
    "<p>2.\tCalculate the rms speed of helium atoms near the surface of the Sun at a temperature of about 5600 K.<p>"
   ]
  },
  {
   "cell_type": "code",
   "execution_count": 15,
   "metadata": {},
   "outputs": [
    {
     "data": {
      "text/plain": [
       "5891.229653166417"
      ]
     },
     "execution_count": 15,
     "metadata": {},
     "output_type": "execute_result"
    }
   ],
   "source": [
    "T = 5600\n",
    "\n",
    "\n",
    "((3*(1.38*10**(-23))*5600)/(6.68*10**(-27)))**(1/2)\n",
    "#5905.87"
   ]
  },
  {
   "cell_type": "markdown",
   "metadata": {},
   "source": [
    "<p>3.\tTwo rooms, each a cube 4.5 m per side, share a 12-cm-thick brick wall. Because of a number of 100-W lightbulbs in one room, the air is at 30&degC, while in the other room it is at 9.0&degC. How many of the 100-W bulbs are needed to maintain the temperature difference across the wall?</p>"
   ]
  },
  {
   "cell_type": "code",
   "execution_count": 16,
   "metadata": {},
   "outputs": [],
   "source": [
    "V_1 = 4.5**3\n",
    "V_2 = 4.5**3\n",
    "\n",
    "#29.8"
   ]
  },
  {
   "cell_type": "markdown",
   "metadata": {},
   "source": [
    "<p>4.\tIn an engine, an almost ideal gas is compressed adiabatically to half its volume. In doing so, 2650J of work is done on the gas.</p>\n",
    "<ol>\n",
    "    <li>How much heat flows into or out of the gas?</li>\n",
    "    <li>What is the change in internal energy of the gas?</li>\n",
    "    <li>Does its temperature rise or fall?</li>\n",
    "</ol>"
   ]
  },
  {
   "cell_type": "code",
   "execution_count": 17,
   "metadata": {},
   "outputs": [],
   "source": [
    "#a. 0\n",
    "#b. 2650 \n",
    "#c. rise"
   ]
  },
  {
   "cell_type": "code",
   "execution_count": 18,
   "metadata": {},
   "outputs": [
    {
     "data": {
      "text/plain": [
       "9.090909090909092"
      ]
     },
     "execution_count": 18,
     "metadata": {},
     "output_type": "execute_result"
    }
   ],
   "source": [
    "(10*2.5)/2.75"
   ]
  },
  {
   "cell_type": "code",
   "execution_count": null,
   "metadata": {},
   "outputs": [],
   "source": []
  }
 ],
 "metadata": {
  "interpreter": {
   "hash": "c35399f5829cad2e2297c5a877a305b6cdb034dcc65abcd1a73441618fe52161"
  },
  "kernelspec": {
   "display_name": "Python 3.8.7 64-bit",
   "language": "python",
   "name": "python3"
  },
  "language_info": {
   "codemirror_mode": {
    "name": "ipython",
    "version": 3
   },
   "file_extension": ".py",
   "mimetype": "text/x-python",
   "name": "python",
   "nbconvert_exporter": "python",
   "pygments_lexer": "ipython3",
   "version": "3.8.7"
  },
  "metadata": {
   "interpreter": {
    "hash": "c35399f5829cad2e2297c5a877a305b6cdb034dcc65abcd1a73441618fe52161"
   }
  },
  "orig_nbformat": 2
 },
 "nbformat": 4,
 "nbformat_minor": 2
}
