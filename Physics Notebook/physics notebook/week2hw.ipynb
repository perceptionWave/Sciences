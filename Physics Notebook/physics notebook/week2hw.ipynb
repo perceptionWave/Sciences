{
 "metadata": {
  "language_info": {
   "codemirror_mode": {
    "name": "ipython",
    "version": 3
   },
   "file_extension": ".py",
   "mimetype": "text/x-python",
   "name": "python",
   "nbconvert_exporter": "python",
   "pygments_lexer": "ipython3",
   "version": "3.8.5-final"
  },
  "orig_nbformat": 2,
  "kernelspec": {
   "name": "python3",
   "display_name": "Python 3",
   "language": "python"
  }
 },
 "nbformat": 4,
 "nbformat_minor": 2,
 "cells": [
  {
   "cell_type": "code",
   "execution_count": 2,
   "metadata": {},
   "outputs": [],
   "source": [
    "import math\n",
    "import numpy as np\n",
    "import sympy as sy\n",
    "import matplotlib as mtp \n",
    "from sympy import *"
   ]
  },
  {
   "source": [
    "2. A student drove to the university from her home and noted that the odometer on her car increased by 12.0 km. The trip took 17.0 min."
   ],
   "cell_type": "markdown",
   "metadata": {}
  },
  {
   "cell_type": "code",
   "execution_count": 3,
   "metadata": {},
   "outputs": [],
   "source": [
    "x = 12\n",
    "t = 17"
   ]
  },
  {
   "source": [
    "(a) What was her average speed in km/h?"
   ],
   "cell_type": "markdown",
   "metadata": {}
  },
  {
   "cell_type": "code",
   "execution_count": 4,
   "metadata": {},
   "outputs": [],
   "source": [
    "def avgSpeed(x, x0, t): \n",
    "    return ((x - x0) / t)"
   ]
  },
  {
   "cell_type": "code",
   "execution_count": 5,
   "metadata": {},
   "outputs": [
    {
     "output_type": "stream",
     "name": "stdout",
     "text": [
      "2. (a) 42.352941 km/h\n\n"
     ]
    }
   ],
   "source": [
    "oneA = avgSpeed(12, 0, 17)\n",
    "oneA *= 60\n",
    "oneA = round(oneA, 6)\n",
    "print(\"2. (a) \" + str(oneA) + \" km/h\\n\")"
   ]
  },
  {
   "source": [
    "(b) If the straight-line distance from her home to the university is 10.3 km in a direction 25.0° south of east, what was her average velocity in km/h?"
   ],
   "cell_type": "markdown",
   "metadata": {}
  },
  {
   "cell_type": "code",
   "execution_count": 6,
   "metadata": {},
   "outputs": [],
   "source": [
    "# avgVelocity\n",
    "# input: \n",
    "#       x = poistion\n",
    "#       x0 = initial position\n",
    "#       t = time\n",
    "# Output:\n",
    "#       avgVelocity\n",
    "def avgVelocity(x, x0, t): \n",
    "    return((x-x0)/t)\n",
    "\n",
    "\n",
    "# Acceleration\n",
    "# input: \n",
    "#       v = velocity\n",
    "#       v0 = initial velocity\n",
    "#       t = time\n",
    "# Output:\n",
    "#       a = acceleration\n",
    "def acceleration(v, v0, t): \n",
    "    return((v-v0)/t)"
   ]
  },
  {
   "cell_type": "code",
   "execution_count": 7,
   "metadata": {},
   "outputs": [
    {
     "output_type": "stream",
     "name": "stdout",
     "text": [
      "2. (b) 36.352941 mph\n\n"
     ]
    }
   ],
   "source": [
    "oneB = avgVelocity(10.3, 0, 17)\n",
    "oneB *= 60\n",
    "oneB = round(oneB, 6)\n",
    "print(\"2. (b) \" + str(oneB) + \" mph\\n\")"
   ]
  },
  {
   "source": [
    "\"(c) If she returned home by the same path 7 h 30 min after she left, what were her average speed and velocity in km/h for the entire trip?"
   ],
   "cell_type": "markdown",
   "metadata": {}
  },
  {
   "cell_type": "code",
   "execution_count": 8,
   "metadata": {},
   "outputs": [
    {
     "output_type": "stream",
     "name": "stdout",
     "text": [
      "2. (c) 2.746667 s\n2. (c) 0.0 km/h\n"
     ]
    }
   ],
   "source": [
    "oneC = avgSpeed(20.6, 0, 7.5)\n",
    "oneC = round(oneC, 6)\n",
    "print(\"2. (c) \" + str(oneC) + \" s\")\n",
    "\n",
    "oneC = avgVelocity(0, 0, 7.5)\n",
    "oneC = round(oneC, 6)\n",
    "print(\"2. (c) \" + str(oneC) + \" km/h\")"
   ]
  },
  {
   "cell_type": "code",
   "execution_count": 9,
   "metadata": {},
   "outputs": [],
   "source": [
    "# displacement  \n",
    "def displacement(x0, v0, t, a):\n",
    "    return(x0+(v0*t)+((1/2)*a*t**2))\n"
   ]
  },
  {
   "source": [
    "3. A commuter backs her car out of her garage with a constant acceleration of 1.20 m/s2."
   ],
   "cell_type": "markdown",
   "metadata": {}
  },
  {
   "cell_type": "code",
   "execution_count": 10,
   "metadata": {},
   "outputs": [
    {
     "output_type": "stream",
     "name": "stdout",
     "text": [
      "(a) How long in seconds does it take her to reach a speed of 1.90 m/s?\n\n3. (a)1.5833333333333333\n"
     ]
    }
   ],
   "source": [
    "a = 1.20\n",
    "print(\"(a) How long in seconds does it take her to reach a speed of 1.90 m/s?\\n\")\n",
    "\n",
    "speed = 1.90\n",
    "seconds = speed / a\n",
    "print(\"3. (a)\" + str(seconds))"
   ]
  },
  {
   "cell_type": "code",
   "execution_count": 11,
   "metadata": {},
   "outputs": [
    {
     "output_type": "stream",
     "name": "stdout",
     "text": [
      "(b) If she then brakes to a stop in 0.8 s, what is her (constant) deceleration in m/s2?\n\n3. (b)2.3749999999999996\n"
     ]
    }
   ],
   "source": [
    "print(\"(b) If she then brakes to a stop in 0.8 s, what is her (constant) deceleration in m/s2?\\n\")\n",
    "seconds = 0.8\n",
    "a = speed / seconds\n",
    "print(\"3. (b)\"+ str(a))"
   ]
  },
  {
   "source": [
    "Assume that an MX missile goes from rest to a suborbital velocity of 4.50 km/s in 50.0 s (the actual speed and time are classified). What is its average acceleration in m/s2? What is its average acceleration in multiples of g?"
   ],
   "cell_type": "markdown",
   "metadata": {}
  },
  {
   "cell_type": "code",
   "execution_count": 12,
   "metadata": {},
   "outputs": [
    {
     "output_type": "stream",
     "name": "stdout",
     "text": [
      "4. (a) 90.0 m/s2\n\n4. (b) 9.183673469387754 m/s2\n\n"
     ]
    }
   ],
   "source": [
    "v0 = 0 \n",
    "v1 = 4.5\n",
    "t = 50.0\n",
    "g = 9.8\n",
    "m = 1000\n",
    "\n",
    "avgA = (v1 / t) * m\n",
    "print(\"4. (a) \" + str(avgA) + \" m/s2\\n\")\n",
    "\n",
    "avgAg = avgA / g\n",
    "print(\"4. (b) \" + str(avgAg) + \" m/s2\\n\")"
   ]
  },
  {
   "source": [
    "5. A light-rail commuter train accelerates at a rate of 1.15 m/s2. How long (in s) does it take to reach its top speed of 80.0 km/h, starting from rest?"
   ],
   "cell_type": "markdown",
   "metadata": {}
  },
  {
   "cell_type": "code",
   "execution_count": 23,
   "metadata": {},
   "outputs": [
    {
     "output_type": "stream",
     "name": "stdout",
     "text": [
      "5. 19.32367149758454 s\n\n"
     ]
    }
   ],
   "source": [
    "a = 1.15\n",
    "topS = 80.0\n",
    "t = 0\n",
    "s = 60\n",
    "\n",
    "topS *= m / s / s\n",
    "\n",
    "tF = topS / a\n",
    "print(\"5. \" + str(tF) + \" s\\n\")"
   ]
  },
  {
   "source": [
    "The same train ordinarily decelerates at a rate of 1.55 m/s2. How long (in s) does it take to come to a stop from its top speed?"
   ],
   "cell_type": "markdown",
   "metadata": {}
  },
  {
   "cell_type": "code",
   "execution_count": 28,
   "metadata": {},
   "outputs": [
    {
     "output_type": "stream",
     "name": "stdout",
     "text": [
      "5. (b) 2.6773761713520745 m/s2\n\n"
     ]
    }
   ],
   "source": [
    "s = 8.3\n",
    "eD = topS / s \n",
    "\n",
    "print(\"5. (b) \" + str(eD) + \" m/s2\\n\")"
   ]
  },
  {
   "source": [
    "6. An unwary football player collides with a padded goalpost while running at a velocity of 6.40 m/s and comes to a full stop after compressing the padding and his body 0.320 m."
   ],
   "cell_type": "markdown",
   "metadata": {}
  },
  {
   "cell_type": "code",
   "execution_count": 15,
   "metadata": {},
   "outputs": [
    {
     "output_type": "stream",
     "name": "stdout",
     "text": [
      "A. What is his deceleration in m/s2?\n\nA. 128.00000000000003 m/s2\n\nHow long in seconds does the collision last?\n\nb. 0.0024999999999999996 s\n\n"
     ]
    }
   ],
   "source": [
    "v = 6.4\n",
    "x0 = 0\n",
    "x = 0.320\n",
    "# a\n",
    "print(\"A. What is his deceleration in m/s2?\\n\")\n",
    "t = x / v\n",
    "\n",
    "a = v / t\n",
    "print(\"A. \"  +str(a) + \" m/s2\\n\")\n",
    "\n",
    "# b\n",
    "print(\"How long in seconds does the collision last?\\n\")\n",
    "t = x / a\n",
    "print(\"b. \" + str(t) + \" s\\n\")"
   ]
  },
  {
   "source": [
    "7. Assume air resistance is negligible unless otherwise stated.\n",
    "Calculate the displacement in m and velocity in m/s at the following times for a rock thrown straight down with an initial velocity of 10.8 m/s from the Verrazano Narrows bridge in New York City. The roadway of this bridge is 70.0 m above the water. \n"
   ],
   "cell_type": "markdown",
   "metadata": {}
  },
  {
   "cell_type": "code",
   "execution_count": 16,
   "metadata": {},
   "outputs": [
    {
     "output_type": "stream",
     "name": "stdout",
     "text": [
      "f(0.5)\ny = 63.375\ndisplacement = 6.625\nvelocity = -15.7\nf(1.0)\ny = 54.3\ndisplacement = 15.700000000000003\nvelocity = -20.6\nf(1.5)\ny = 42.775\ndisplacement = 27.225\nvelocity = -25.5\nf(2.0)\ny = 28.8\ndisplacement = 41.2\nvelocity = -30.4\n"
     ]
    }
   ],
   "source": [
    "v0 = -10.8\n",
    "x = 70.0\n",
    "t = np.array([0.5, 1.0, 1.5, 2.0])\n",
    "a = -9.8\n",
    "\n",
    "for n in t:\n",
    "    print(\"f(\"+str(n)+\")\")\n",
    "    d = displacement(x, v0, n, a)\n",
    "    d = round(d, 3)\n",
    "    print(\"y = \" +str(d))\n",
    "    d = x-d\n",
    "    print(\"displacement = \" + str(d))\n",
    "\n",
    "    v = v0 + (a*n)\n",
    "    v = round(v, 2)\n",
    "    print('velocity = ' +str(v))"
   ]
  },
  {
   "source": [
    "8. A swimmer bounces straight up from a diving board and falls feet first into a pool. She starts with a velocity of 3.00 m/s, and her takeoff point is 1.40 m above the pool."
   ],
   "cell_type": "markdown",
   "metadata": {}
  },
  {
   "cell_type": "code",
   "execution_count": 29,
   "metadata": {},
   "outputs": [
    {
     "output_type": "stream",
     "name": "stdout",
     "text": [
      "Time to hit the ground: 0.534522483824849 s\n"
     ]
    }
   ],
   "source": [
    "v = 3.00\n",
    "x = 1.4\n",
    "a = -9.8\n",
    "\n",
    "t = (2*(-x))/a\n",
    "t = sy.sqrt(t)\n",
    "print(\"Time to hit the ground: \" + str(t) + \" s\")"
   ]
  },
  {
   "cell_type": "code",
   "execution_count": 18,
   "metadata": {},
   "outputs": [
    {
     "output_type": "stream",
     "name": "stdout",
     "text": [
      "1\n"
     ]
    }
   ],
   "source": [
    "def instAcc(t, t0, v, v0):\n",
    "    dV = v - v0\n",
    "    dT = t - t0\n",
    "    return(sy.limit(t, 0, dV / dT))\n",
    "a = instAcc(1, 2, 3, 4)\n",
    "print(a)"
   ]
  },
  {
   "cell_type": "code",
   "execution_count": 19,
   "metadata": {},
   "outputs": [
    {
     "output_type": "stream",
     "name": "stdout",
     "text": [
      "1.8591836734693876\n"
     ]
    }
   ],
   "source": [
    "def height(v, v0, a, h):\n",
    "    v = v**2\n",
    "    v0 = v0**2\n",
    "    return(((v-v0)/(2*a))+h)\n",
    "\n",
    "y = height(0, 3, -9.8, 1.4)\n",
    "print(y)"
   ]
  },
  {
   "cell_type": "code",
   "execution_count": 20,
   "metadata": {},
   "outputs": [
    {
     "output_type": "stream",
     "name": "stdout",
     "text": [
      "2.0122448979591834\n"
     ]
    }
   ],
   "source": [
    "t = 3/4.9 + 1.4\n",
    "print(t)"
   ]
  },
  {
   "cell_type": "code",
   "execution_count": 21,
   "metadata": {},
   "outputs": [
    {
     "output_type": "execute_result",
     "data": {
      "text/plain": [
       "22.72"
      ]
     },
     "metadata": {},
     "execution_count": 21
    }
   ],
   "source": [
    "3.00+(9.8)*(2.0122448979591834)"
   ]
  },
  {
   "cell_type": "code",
   "execution_count": 22,
   "metadata": {},
   "outputs": [
    {
     "output_type": "stream",
     "name": "stdout",
     "text": [
      "0.562429133857986*I\n",
      "-5.51180551180827*I\n"
     ]
    }
   ],
   "source": [
    "t = sy.sqrt(1.55/-4.9)\n",
    "print(t)\n",
    "\n",
    "v = -9.8 * t\n",
    "print(v)"
   ]
  },
  {
   "cell_type": "code",
   "execution_count": null,
   "metadata": {},
   "outputs": [],
   "source": []
  }
 ]
}