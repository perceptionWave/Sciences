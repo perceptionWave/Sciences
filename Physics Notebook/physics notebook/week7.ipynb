{
 "metadata": {
  "language_info": {
   "codemirror_mode": {
    "name": "ipython",
    "version": 3
   },
   "file_extension": ".py",
   "mimetype": "text/x-python",
   "name": "python",
   "nbconvert_exporter": "python",
   "pygments_lexer": "ipython3",
   "version": "3.8.5-final"
  },
  "orig_nbformat": 2,
  "kernelspec": {
   "name": "python3",
   "display_name": "Python 3",
   "language": "python"
  }
 },
 "nbformat": 4,
 "nbformat_minor": 2,
 "cells": [
  {
   "cell_type": "code",
   "execution_count": 80,
   "metadata": {},
   "outputs": [],
   "source": [
    "import math\n",
    "import numpy as np \n",
    "import sympy as sy \n",
    "import matplotlib as mtp \n",
    "from sympy import * "
   ]
  },
  {
   "cell_type": "code",
   "execution_count": 81,
   "metadata": {},
   "outputs": [],
   "source": [
    "gravity = 9.8\n",
    "\n",
    "def speed(l, t):return(l/t)\n",
    "def density(m, l):return(m/l**3)\n",
    "def volume(l):return(l**3)\n",
    "def accel(l,t):return(l/t**2)\n",
    "def motionX(x0, v0, t, a): return(x0+(v0*t)+(0.5*a*(t**2)))\n",
    "def motionXwithoutTime(v0, a, d):return(v0**2+(2*a*d))"
   ]
  },
  {
   "cell_type": "code",
   "execution_count": 82,
   "metadata": {},
   "outputs": [],
   "source": [
    "def projectileXmotion(x0, vx0, t):return(x0+vx0*t)\n",
    "def projectileYmotion(y0,vy0, t):return(y0+vy0*t-(4.9*(t**2)))\n",
    "def yVelocity(vy0, t):return(vy0-9.8*t)\n"
   ]
  },
  {
   "cell_type": "code",
   "execution_count": 83,
   "metadata": {},
   "outputs": [],
   "source": [
    "# work = parallel force * displacement * corresponding cosine of theta \n",
    "def work(force, displacement, theta):\n",
    "    W = force*displacement*math.cos(math.radians(theta))\n",
    "    return(W)"
   ]
  },
  {
   "cell_type": "code",
   "execution_count": 84,
   "metadata": {},
   "outputs": [],
   "source": [
    "def acceleration(firstVelocity, secondVelocity, displacement):\n",
    "    a = ((secondVelocity**2-firstVelocity**2)/(2*displacement))\n",
    "    return(a)"
   ]
  },
  {
   "cell_type": "code",
   "execution_count": 85,
   "metadata": {},
   "outputs": [],
   "source": [
    "def kineticEnergy(mass, velocity):\n",
    "    kineticEnergy=(1/2)*mass*(velocity**2)\n",
    "    return(kineticEnergy)"
   ]
  },
  {
   "cell_type": "code",
   "execution_count": 86,
   "metadata": {},
   "outputs": [],
   "source": [
    "def force(mass, acceleration):\n",
    "    F = mass*acceleration\n",
    "    return(F)\n",
    "\n",
    "\n",
    "def forceOfGravity(mass):return(mass*9.8)\n"
   ]
  },
  {
   "cell_type": "code",
   "execution_count": 87,
   "metadata": {},
   "outputs": [],
   "source": [
    "######################\n",
    "def net_Work(KE1, KE2):\n",
    "    Wnet = KE\n",
    "    return(Wnet)"
   ]
  },
  {
   "cell_type": "code",
   "execution_count": 88,
   "metadata": {},
   "outputs": [],
   "source": [
    "def power(Work, time):\n",
    "    P = Work/time\n",
    "    return(P)"
   ]
  },
  {
   "cell_type": "code",
   "execution_count": 89,
   "metadata": {},
   "outputs": [],
   "source": [
    "def avgVelocity(firstVelocity, secondVelocity, time1, time2):\n",
    "    avgV=(secondVelocity-firstVelocity)/(time2-time1)\n",
    "    return(avgV)"
   ]
  },
  {
   "cell_type": "code",
   "execution_count": 90,
   "metadata": {},
   "outputs": [],
   "source": [
    "def avgPower(force, avgVelocity):\n",
    "    avgP=force*avgVelocity\n",
    "    return(avgP)\n"
   ]
  },
  {
   "cell_type": "code",
   "execution_count": 91,
   "metadata": {},
   "outputs": [],
   "source": [
    "horsepower = 746 #watts"
   ]
  },
  {
   "cell_type": "code",
   "execution_count": 95,
   "metadata": {},
   "outputs": [],
   "source": [
    "def potentialEnergy(mass, y1, y2):return(mass*9.8*(y2-y1))"
   ]
  },
  {
   "cell_type": "code",
   "execution_count": 112,
   "metadata": {},
   "outputs": [
    {
     "output_type": "stream",
     "name": "stdout",
     "text": [
      "7.01283245e-49\n"
     ]
    }
   ],
   "source": [
    "m = 9.11*(10**-31)\n",
    "a = -(1.3*(10**6))\n",
    "F = force(m,a)\n",
    "W = work(F, 0, 360)\n",
    "print(1/2*F**2)"
   ]
  },
  {
   "cell_type": "code",
   "execution_count": 113,
   "metadata": {},
   "outputs": [
    {
     "output_type": "stream",
     "name": "stdout",
     "text": [
      "-7.697950000000001e-19\n"
     ]
    }
   ],
   "source": [
    "print((1/2)*(9.11*(10**-31))*(-(1.3*(10**6))**2))"
   ]
  },
  {
   "cell_type": "code",
   "execution_count": 93,
   "metadata": {},
   "outputs": [
    {
     "output_type": "stream",
     "name": "stdout",
     "text": [
      "77370.0\n"
     ]
    }
   ],
   "source": [
    "m = 92\n",
    "F = force(92, 9.8)\n",
    "F+=130\n",
    "W = work(F, 75, 0)\n",
    "print(W)"
   ]
  },
  {
   "cell_type": "code",
   "execution_count": 94,
   "metadata": {},
   "outputs": [
    {
     "output_type": "execute_result",
     "data": {
      "text/plain": [
       "7.0710678118654755"
      ]
     },
     "metadata": {},
     "execution_count": 94
    }
   ],
   "source": [
    "m = 6.0\n",
    "KE = 150\n",
    "math.sqrt((2 * KE) / m)"
   ]
  },
  {
   "cell_type": "code",
   "execution_count": 97,
   "metadata": {},
   "outputs": [
    {
     "output_type": "execute_result",
     "data": {
      "text/plain": [
       "28.0"
      ]
     },
     "metadata": {},
     "execution_count": 97
    }
   ],
   "source": [
    "math.sqrt(2*9.8*40)"
   ]
  },
  {
   "cell_type": "code",
   "execution_count": 114,
   "metadata": {},
   "outputs": [
    {
     "output_type": "stream",
     "name": "stdout",
     "text": [
      "209.51539030917348\n"
     ]
    }
   ],
   "source": [
    "F1 = 24*g\n",
    "F2 = 24*math.cos(math.radians(30))+math.sin(math.radians(30))*g\n",
    "print((F1-F2))"
   ]
  }
 ]
}