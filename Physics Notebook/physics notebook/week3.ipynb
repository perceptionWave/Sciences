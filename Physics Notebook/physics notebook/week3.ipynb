{
 "metadata": {
  "language_info": {
   "codemirror_mode": {
    "name": "ipython",
    "version": 3
   },
   "file_extension": ".py",
   "mimetype": "text/x-python",
   "name": "python",
   "nbconvert_exporter": "python",
   "pygments_lexer": "ipython3",
   "version": "3.8.5-final"
  },
  "orig_nbformat": 2,
  "kernelspec": {
   "name": "python3",
   "display_name": "Python 3",
   "language": "python"
  }
 },
 "nbformat": 4,
 "nbformat_minor": 2,
 "cells": [
  {
   "cell_type": "code",
   "execution_count": null,
   "metadata": {},
   "outputs": [],
   "source": [
    "import math\n",
    "import sympy as sy\n",
    "import numpy as np\n",
    "import matplotlib as mtp \n",
    "from sympy import *"
   ]
  },
  {
   "cell_type": "code",
   "execution_count": 1,
   "metadata": {},
   "outputs": [],
   "source": [
    "def y(t): \n",
    "    y = y0 + (v0y * t) + (1/2 * a * (t**2))\n",
    "    return(y)\n",
    "def x(t): \n",
    "    x = x0 + (v0x * t) + (1/2 * a * (t**2))\n",
    "    return(x)\n",
    "def Vy(t):\n",
    "    vy = v0y + (ay * t)\n",
    "    return(vy)\n",
    "def Vx(t):\n",
    "    vx = v0x + (ax * t)\n",
    "    return(vx)"
   ]
  },
  {
   "cell_type": "code",
   "execution_count": 2,
   "metadata": {},
   "outputs": [],
   "source": [
    "initSpeed = 15\n",
    "x0 = 0\n",
    "y0 = 10\n",
    "dY = -10\n",
    "dX = 21.5\n",
    "ay = -9.8\n",
    "ax = 0\n",
    "# v0y = 0 * sin(0)  || 0 + (-9.8 * t)\n",
    "# v0x = 15 * cos(0) || 15 + (0 * t)\n",
    "\n",
    "xp = 21.5\n",
    "yp = -10"
   ]
  },
  {
   "cell_type": "code",
   "execution_count": null,
   "metadata": {},
   "outputs": [],
   "source": []
  },
  {
   "cell_type": "code",
   "execution_count": 3,
   "metadata": {},
   "outputs": [],
   "source": [
    "initSpeed = 15\n",
    "y0 = 10\n",
    "x0 = 0\n",
    "dy = -10\n",
    "dx = 28.8\n",
    "ay = -9.8\n",
    "ax = 0\n",
    "# v0y = 0 * sin(20)\n",
    "# v0x = 15 * cos(20)\n",
    "\n",
    "xp = 28.8\n",
    "yp = -10"
   ]
  },
  {
   "cell_type": "code",
   "execution_count": null,
   "metadata": {},
   "outputs": [],
   "source": []
  }
 ]
}