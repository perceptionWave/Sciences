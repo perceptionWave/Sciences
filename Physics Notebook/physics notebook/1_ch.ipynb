{
 "cells": [
  {
   "cell_type": "code",
   "execution_count": 1,
   "metadata": {},
   "outputs": [],
   "source": [
    "import math\n",
    "# import scipy as sp\n",
    "# import numpy as np\n",
    "# import conversions as conv\n",
    "# import sympy as sy"
   ]
  },
  {
   "cell_type": "markdown",
   "metadata": {},
   "source": [
    "<p>Average Speed = distance / time</p>\n",
    "\n",
    "<h3>Magnitude</h3>\n",
    "<h3>Direction</h3>"
   ]
  },
  {
   "cell_type": "code",
   "execution_count": 4,
   "metadata": {},
   "outputs": [],
   "source": [
    "distance = 1\n",
    "time = 1\n",
    "magnitude = 1\n",
    "direction = 1\n",
    "displacement = 1\n",
    "\n",
    "avgSpeed = distance / time\n",
    "# magnitude\n",
    "# direction\n",
    "\n",
    "scalar = magnitude\n",
    "# speed\n",
    "# distance\n",
    "\n",
    "vector = magnitude + direction\n",
    "# velocity \n",
    "# position\n",
    "\n",
    "# 1-Dimensional position time graphs\n",
    "\n",
    "avgVel = displacement / time\n",
    "#deltaX = finX - initX\n",
    "\n",
    "#instantaneousVel = lim (Dt > 0) [Dx / Dt]\n"
   ]
  },
  {
   "cell_type": "code",
   "execution_count": null,
   "metadata": {},
   "outputs": [],
   "source": [
    "#Average velocity\n",
    "## v = (x-xO) / t\n",
    "\n",
    "#Average Acceleration\n",
    "## a = (v - vO) / t\n",
    "\n",
    "#vO = initial velocity\n",
    "## x - xO = V * t\n",
    "## x - xO = ((V + vO) / 2) * t\n",
    "\n"
   ]
  }
 ],
 "metadata": {
  "interpreter": {
   "hash": "57baa5815c940fdaff4d14510622de9616cae602444507ba5d0b6727c008cbd6"
  },
  "kernelspec": {
   "display_name": "Python 3.7.8 64-bit",
   "language": "python",
   "name": "python3"
  },
  "language_info": {
   "codemirror_mode": {
    "name": "ipython",
    "version": 3
   },
   "file_extension": ".py",
   "mimetype": "text/x-python",
   "name": "python",
   "nbconvert_exporter": "python",
   "pygments_lexer": "ipython3",
   "version": "3.7.8"
  },
  "metadata": {
   "interpreter": {
    "hash": "57baa5815c940fdaff4d14510622de9616cae602444507ba5d0b6727c008cbd6"
   }
  },
  "orig_nbformat": 2
 },
 "nbformat": 4,
 "nbformat_minor": 2
}
