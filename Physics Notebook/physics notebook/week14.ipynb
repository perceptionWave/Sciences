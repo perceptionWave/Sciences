{
 "metadata": {
  "language_info": {
   "codemirror_mode": {
    "name": "ipython",
    "version": 3
   },
   "file_extension": ".py",
   "mimetype": "text/x-python",
   "name": "python",
   "nbconvert_exporter": "python",
   "pygments_lexer": "ipython3",
   "version": "3.8.7"
  },
  "orig_nbformat": 2,
  "kernelspec": {
   "name": "python3",
   "display_name": "Python 3.8.7 64-bit",
   "metadata": {
    "interpreter": {
     "hash": "c35399f5829cad2e2297c5a877a305b6cdb034dcc65abcd1a73441618fe52161"
    }
   }
  }
 },
 "nbformat": 4,
 "nbformat_minor": 2,
 "cells": [
  {
   "source": [
    "<h1>The laws of Thermodynamics</h1>\n",
    "<h2>1<sup>st</sup> Law: Conservation of Energy</h2>"
   ],
   "cell_type": "markdown",
   "metadata": {}
  },
  {
   "cell_type": "code",
   "execution_count": 1,
   "metadata": {},
   "outputs": [],
   "source": [
    "# energy = system - work\n",
    "def delta_Energy(System, Work):\n",
    "    W = Work\n",
    "    Q = System\n",
    "    return(Q-W)"
   ]
  },
  {
   "cell_type": "code",
   "execution_count": 1,
   "metadata": {},
   "outputs": [],
   "source": [
    "cal=4.2 #Joules"
   ]
  },
  {
   "source": [
    "<h2>2<sup>nd</sup> Law: Entropy Increases"
   ],
   "cell_type": "markdown",
   "metadata": {}
  },
  {
   "cell_type": "code",
   "execution_count": 2,
   "metadata": {},
   "outputs": [],
   "source": [
    "def efficiency(work, System):\n",
    "    W = work\n",
    "    Q = System\n",
    "    return(W/Q)"
   ]
  },
  {
   "source": [
    "<h2>3<sup>rd</sup> Law</h2>\n",
    "<p><i><b>As a system approaches absolute zero, all processes cease and the entropy of thet system approaches minimum</b></i></p>\n",
    "<p><b><i>It is impossible to reach the absolute zero of temperature by any finite number of processes</i></b></p>"
   ],
   "cell_type": "markdown",
   "metadata": {}
  },
  {
   "cell_type": "code",
   "execution_count": null,
   "metadata": {},
   "outputs": [],
   "source": []
  }
 ]
}