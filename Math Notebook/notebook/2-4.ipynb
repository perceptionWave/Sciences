{
 "metadata": {
  "language_info": {
   "codemirror_mode": {
    "name": "ipython",
    "version": 3
   },
   "file_extension": ".py",
   "mimetype": "text/x-python",
   "name": "python",
   "nbconvert_exporter": "python",
   "pygments_lexer": "ipython3",
   "version": "3.8.5-final"
  },
  "orig_nbformat": 2,
  "kernelspec": {
   "name": "python3",
   "display_name": "Python 3",
   "language": "python"
  }
 },
 "nbformat": 4,
 "nbformat_minor": 2,
 "cells": [
  {
   "cell_type": "code",
   "execution_count": 2,
   "metadata": {},
   "outputs": [],
   "source": [
    "import math\n",
    "import sympy as sy\n",
    "import numpy as np\n",
    "import matplotlib as mtp \n",
    "from sympy import *"
   ]
  },
  {
   "source": [
    "Question 2."
   ],
   "cell_type": "markdown",
   "metadata": {}
  },
  {
   "cell_type": "code",
   "execution_count": 45,
   "metadata": {},
   "outputs": [
    {
     "output_type": "stream",
     "name": "stdout",
     "text": [
      "lim[x->2](x**3-5*x+1) = -1\ny = (x**3 - 5x +1)\na = 2\n\ne = 0.1 & y = -0.9\nx1 = 1.76068168616590\ndelta = 0.239318313834099\ne = -0.1 & y = -1.1\nx2 = 1.70293863659264\ndelta = 0.297061363407360\n\n\n0.239318313834099\n\n\ne = 0.2 & y = -0.8\nx1 = 1.78885438199983\ndelta = 0.211145618000168\ne = -0.2 & y = -1.2\nx2 = 1.67332005306815\ndelta = 0.326679946931849\n\n\n0.211145618000168\n\n\n"
     ]
    }
   ],
   "source": [
    "#illustrate the values of delta for epsilon: 0.1, 0.2\n",
    "\n",
    "y = -1   \n",
    "a = 2 # limit\n",
    "print(\"lim[x->2](x**3-5*x+1) = -1\")\n",
    "print(\"y = (x**3 - 5x +1)\")\n",
    "print(\"a = 2\\n\")\n",
    "\n",
    "def f(y):\n",
    "    x = sy.sqrt(y+4)\n",
    "    return(x)\n",
    "\n",
    "e = np.array([0.1, 0.2])\n",
    "\n",
    "#looking for x1, x2, and delta\n",
    "for r in e: \n",
    "    y = -1 + r\n",
    "    print(\"e = \" + str(r) + \" & y = \" + str(y))\n",
    "\n",
    "    x1 = f(y)\n",
    "    print(\"x1 = \" + str(x1))\n",
    "    d = x1 - a\n",
    "    d = sy.Abs(d)\n",
    "    print(\"delta = \" + str(d))\n",
    "\n",
    "    y2 = -1 - r\n",
    "    print(\"e = -\" + str(r) + \" & y = \" + str(y2))\n",
    "\n",
    "    x2 = f(y2)\n",
    "    print(\"x2 = \" + str(x2))\n",
    "    d2 = x2 - a\n",
    "    d2 = sy.Abs(d2)\n",
    "    print(\"delta = \" + str(d2))\n",
    "\n",
    "    print(\"\\n\")\n",
    "    if (d > d2):\n",
    "        print(d2)\n",
    "    else:\n",
    "        print(d)\n",
    "    print(\"\\n\")\n",
    "\n",
    "\n"
   ]
  },
  {
   "cell_type": "code",
   "execution_count": null,
   "metadata": {},
   "outputs": [],
   "source": []
  }
 ]
}