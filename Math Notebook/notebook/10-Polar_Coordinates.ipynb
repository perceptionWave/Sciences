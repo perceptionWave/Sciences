{
 "cells": [
  {
   "cell_type": "code",
   "execution_count": 3,
   "metadata": {},
   "outputs": [
    {
     "name": "stdout",
     "output_type": "stream",
     "text": [
      "x\t|\ty\n",
      "--------|---------\n",
      "8\t|\t-1\n",
      "3\t|\t0\n",
      "0\t|\t1\n",
      "-1\t|\t2\n",
      "0\t|\t3\n",
      "3\t|\t4\n"
     ]
    }
   ],
   "source": [
    "def f(t):\n",
    "    x = (t**2)-2*t\n",
    "    return x\n",
    "def g(t):\n",
    "    y = t+1\n",
    "    return y\n",
    "\n",
    "print(\"x\\t|\\ty\\n--------|---------\")\n",
    "for t in range(-2,4):\n",
    "    print(str(f(t))+\"\\t|\\t\"+str((g(t))))"
   ]
  },
  {
   "cell_type": "code",
   "execution_count": null,
   "metadata": {},
   "outputs": [],
   "source": []
  }
 ],
 "metadata": {
  "kernelspec": {
   "display_name": "Python 3.8.7 64-bit",
   "language": "python",
   "name": "python3"
  },
  "language_info": {
   "codemirror_mode": {
    "name": "ipython",
    "version": 3
   },
   "file_extension": ".py",
   "mimetype": "text/x-python",
   "name": "python",
   "nbconvert_exporter": "python",
   "pygments_lexer": "ipython3",
   "version": "3.8.7"
  },
  "orig_nbformat": 4,
  "vscode": {
   "interpreter": {
    "hash": "a206fb370b2264bb1cb314b4476358d6906287855e44f04b9fffdf1f128ef612"
   }
  }
 },
 "nbformat": 4,
 "nbformat_minor": 2
}
