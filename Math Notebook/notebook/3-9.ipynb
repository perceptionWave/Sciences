{
 "metadata": {
  "language_info": {
   "codemirror_mode": {
    "name": "ipython",
    "version": 3
   },
   "file_extension": ".py",
   "mimetype": "text/x-python",
   "name": "python",
   "nbconvert_exporter": "python",
   "pygments_lexer": "ipython3",
   "version": "3.8.7-final"
  },
  "orig_nbformat": 2,
  "kernelspec": {
   "name": "python3",
   "display_name": "Python 3.8.7 64-bit",
   "metadata": {
    "interpreter": {
     "hash": "c35399f5829cad2e2297c5a877a305b6cdb034dcc65abcd1a73441618fe52161"
    }
   }
  }
 },
 "nbformat": 4,
 "nbformat_minor": 2,
 "cells": [
  {
   "cell_type": "code",
   "execution_count": 2,
   "metadata": {},
   "outputs": [],
   "source": [
    "import math"
   ]
  },
  {
   "cell_type": "code",
   "execution_count": 8,
   "metadata": {},
   "outputs": [
    {
     "output_type": "execute_result",
     "data": {
      "text/plain": [
       "449.0924181056723"
      ]
     },
     "metadata": {},
     "execution_count": 8
    }
   ],
   "source": [
    "(math.sqrt(21)/5)*490"
   ]
  },
  {
   "cell_type": "code",
   "execution_count": 10,
   "metadata": {},
   "outputs": [
    {
     "output_type": "stream",
     "name": "stdout",
     "text": [
      "13.0\n"
     ]
    }
   ],
   "source": [
    "deltaHeight = 1 # dh/dt\n",
    "deltaArea = 2 # dA/dt\n",
    "height = 20 \n",
    "area = 130\n",
    "# find db/dt\n",
    "\n",
    "def deltaAreaOfTriangle(base, height):\n",
    "    return(1/2*(base*dhdt+height*dbdt))\n",
    "\n",
    "print((2*area)/height)\n",
    "\n"
   ]
  }
 ]
}